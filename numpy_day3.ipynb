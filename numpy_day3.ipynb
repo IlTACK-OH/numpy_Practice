{
  "nbformat": 4,
  "nbformat_minor": 0,
  "metadata": {
    "colab": {
      "provenance": [],
      "authorship_tag": "ABX9TyOWNjw14agsDLJEikznIAxi",
      "include_colab_link": true
    },
    "kernelspec": {
      "name": "python3",
      "display_name": "Python 3"
    },
    "language_info": {
      "name": "python"
    }
  },
  "cells": [
    {
      "cell_type": "markdown",
      "metadata": {
        "id": "view-in-github",
        "colab_type": "text"
      },
      "source": [
        "<a href=\"https://colab.research.google.com/github/IlTACK-OH/numpy_Practice/blob/main/numpy_day3.ipynb\" target=\"_parent\"><img src=\"https://colab.research.google.com/assets/colab-badge.svg\" alt=\"Open In Colab\"/></a>"
      ]
    },
    {
      "cell_type": "markdown",
      "source": [
        "# numpy_day3"
      ],
      "metadata": {
        "id": "ln8ZIJrZkwAy"
      }
    },
    {
      "cell_type": "code",
      "source": [
        "import numpy as np"
      ],
      "metadata": {
        "id": "Q8S5v1sqk7-H"
      },
      "execution_count": 2,
      "outputs": []
    },
    {
      "cell_type": "markdown",
      "source": [
        "## 21. astype\n",
        "arr 배열은 float64 타입입니다. 이를 `np.int32` 타입으로 변경하세요."
      ],
      "metadata": {
        "id": "-tW_smMgk7YZ"
      }
    },
    {
      "cell_type": "code",
      "execution_count": 10,
      "metadata": {
        "colab": {
          "base_uri": "https://localhost:8080/"
        },
        "id": "LQkVjmiEklpJ",
        "outputId": "3e8ecd3d-361a-4e16-d996-166b42365e2a"
      },
      "outputs": [
        {
          "output_type": "stream",
          "name": "stdout",
          "text": [
            "arr1 dtype: float64\n",
            "arr2 dtype: int32\n"
          ]
        }
      ],
      "source": [
        "arr1= np.array([1.1,2.1,3.1])\n",
        "arr2 = arr1.astype(np.int32)\n",
        "print('arr1 dtype:',arr1.dtype)\n",
        "print('arr2 dtype:',arr2.dtype)"
      ]
    },
    {
      "cell_type": "markdown",
      "source": [
        "## 22. linspace\n",
        "0~10 사이를 구간을 20개의 포인트로 분할한 결과를 `ndarray`로 표현하라"
      ],
      "metadata": {
        "id": "V1txf1mFloAZ"
      }
    },
    {
      "cell_type": "code",
      "source": [
        "np.linspace(0,10,20)\n",
        "# linspace는 정해진 구간을 정해진 포인트만큼 등간격으로 분할한다."
      ],
      "metadata": {
        "colab": {
          "base_uri": "https://localhost:8080/"
        },
        "id": "ikHqPryIlxEJ",
        "outputId": "fa069341-6595-467a-83a9-78cdb554bcc4"
      },
      "execution_count": 12,
      "outputs": [
        {
          "output_type": "execute_result",
          "data": {
            "text/plain": [
              "array([ 0.        ,  0.52631579,  1.05263158,  1.57894737,  2.10526316,\n",
              "        2.63157895,  3.15789474,  3.68421053,  4.21052632,  4.73684211,\n",
              "        5.26315789,  5.78947368,  6.31578947,  6.84210526,  7.36842105,\n",
              "        7.89473684,  8.42105263,  8.94736842,  9.47368421, 10.        ])"
            ]
          },
          "metadata": {},
          "execution_count": 12
        }
      ]
    },
    {
      "cell_type": "markdown",
      "source": [
        "## 23. 로우 인덱싱\n",
        "다음의 `ndarry` 객체에서 마지막 로우(`[6, 7, 8]`)을 출력하세요."
      ],
      "metadata": {
        "id": "IFb_-IX9mBt9"
      }
    },
    {
      "cell_type": "code",
      "source": [
        "arr = np.arange(9).reshape(3, 3)\n",
        "arr[2,:] # 나의 답"
      ],
      "metadata": {
        "colab": {
          "base_uri": "https://localhost:8080/"
        },
        "id": "ZyffLlvqmJza",
        "outputId": "47e2a933-886c-4c08-e3fd-c739d6b7e4d0"
      },
      "execution_count": 14,
      "outputs": [
        {
          "output_type": "execute_result",
          "data": {
            "text/plain": [
              "array([6, 7, 8])"
            ]
          },
          "metadata": {},
          "execution_count": 14
        }
      ]
    },
    {
      "cell_type": "code",
      "source": [
        "arr[-1] # 답지 답안"
      ],
      "metadata": {
        "colab": {
          "base_uri": "https://localhost:8080/"
        },
        "id": "d6lbKM4QmT29",
        "outputId": "add36a9b-9732-4de1-9890-6103c6e4c25b"
      },
      "execution_count": 16,
      "outputs": [
        {
          "output_type": "execute_result",
          "data": {
            "text/plain": [
              "array([6, 7, 8])"
            ]
          },
          "metadata": {},
          "execution_count": 16
        }
      ]
    },
    {
      "cell_type": "code",
      "source": [
        "arr[2] # 답지 답안"
      ],
      "metadata": {
        "colab": {
          "base_uri": "https://localhost:8080/"
        },
        "id": "Y_8I4zyXma0x",
        "outputId": "0ae88703-d99d-4dcc-c273-2420a2856c6b"
      },
      "execution_count": 17,
      "outputs": [
        {
          "output_type": "execute_result",
          "data": {
            "text/plain": [
              "array([6, 7, 8])"
            ]
          },
          "metadata": {},
          "execution_count": 17
        }
      ]
    },
    {
      "cell_type": "markdown",
      "source": [
        "## 24. 컬럼 인덱싱\n",
        "다음의 `ndarry` 객체에서 두 번째 컬럼(`[1, 4, 7]`)을 출력하세요."
      ],
      "metadata": {
        "id": "NlJEaI_6mcBd"
      }
    },
    {
      "cell_type": "code",
      "source": [
        "arr = np.arange(9).reshape(3, 3)\n",
        "arr[:,1]"
      ],
      "metadata": {
        "colab": {
          "base_uri": "https://localhost:8080/"
        },
        "id": "K4TEw5jQnioF",
        "outputId": "4d0eaa7d-caa9-40ec-d992-0c7b31ddad74"
      },
      "execution_count": 19,
      "outputs": [
        {
          "output_type": "execute_result",
          "data": {
            "text/plain": [
              "array([1, 4, 7])"
            ]
          },
          "metadata": {},
          "execution_count": 19
        }
      ]
    },
    {
      "cell_type": "markdown",
      "source": [
        "## 25. 데이터 인덱싱\n",
        "다음의 `ndarray`객체에서 `17`을 선택하는 코드를 작성하라."
      ],
      "metadata": {
        "id": "4QSY2zVonqtA"
      }
    },
    {
      "cell_type": "code",
      "source": [
        "arr = np.arange(25).reshape(5, 5)\n",
        "arr[3][2] \n",
        "arr[3,2] # 한 번에 인덱싱하는 것이 성능 측면에서 유리하다."
      ],
      "metadata": {
        "colab": {
          "base_uri": "https://localhost:8080/"
        },
        "id": "y1arDP2nnw9k",
        "outputId": "853a554e-38e5-482b-e76a-abe1185a807c"
      },
      "execution_count": 21,
      "outputs": [
        {
          "output_type": "execute_result",
          "data": {
            "text/plain": [
              "17"
            ]
          },
          "metadata": {},
          "execution_count": 21
        }
      ]
    },
    {
      "cell_type": "markdown",
      "source": [
        "## 26. 슬라이싱1\n",
        "`[1 3]`을 슬라이싱 하는 코드를 작성하세요."
      ],
      "metadata": {
        "id": "Ry1665RvoC4Q"
      }
    },
    {
      "cell_type": "code",
      "source": [
        "arr = np.arange(5)\n",
        "arr[[1,3]] # 특정 위치의 값을 슬라이싱\n",
        "arr[1::2] # 증감폭을 지정하여 연속된 데이터 슬라이싱"
      ],
      "metadata": {
        "colab": {
          "base_uri": "https://localhost:8080/"
        },
        "id": "H3HD3AZhoIyt",
        "outputId": "4eaeb85e-7373-4a2c-9a73-cb8e29c00eff"
      },
      "execution_count": 25,
      "outputs": [
        {
          "output_type": "execute_result",
          "data": {
            "text/plain": [
              "array([1, 3])"
            ]
          },
          "metadata": {},
          "execution_count": 25
        }
      ]
    },
    {
      "cell_type": "markdown",
      "source": [
        "## 27. 슬라이싱2\n",
        "`[6 7 8 9]`를 슬라이싱 하는 코드를 작성하세요.\n",
        "\n"
      ],
      "metadata": {
        "id": "8P87dK61oegl"
      }
    },
    {
      "cell_type": "code",
      "source": [
        "arr = np.arange(25).reshape(5, 5)\n",
        "arr"
      ],
      "metadata": {
        "colab": {
          "base_uri": "https://localhost:8080/"
        },
        "id": "NYrG7eKuoika",
        "outputId": "6610a075-1daf-4933-d114-85fe84f6eab6"
      },
      "execution_count": 27,
      "outputs": [
        {
          "output_type": "execute_result",
          "data": {
            "text/plain": [
              "array([[ 0,  1,  2,  3,  4],\n",
              "       [ 5,  6,  7,  8,  9],\n",
              "       [10, 11, 12, 13, 14],\n",
              "       [15, 16, 17, 18, 19],\n",
              "       [20, 21, 22, 23, 24]])"
            ]
          },
          "metadata": {},
          "execution_count": 27
        }
      ]
    },
    {
      "cell_type": "code",
      "source": [
        "arr[1,1:]"
      ],
      "metadata": {
        "colab": {
          "base_uri": "https://localhost:8080/"
        },
        "id": "TStJ_5-ZokBQ",
        "outputId": "acdba158-14f3-4e69-a980-2a48d98ab310"
      },
      "execution_count": 29,
      "outputs": [
        {
          "output_type": "execute_result",
          "data": {
            "text/plain": [
              "array([6, 7, 8, 9])"
            ]
          },
          "metadata": {},
          "execution_count": 29
        }
      ]
    },
    {
      "cell_type": "markdown",
      "source": [
        "## 28. 슬라이싱 3\n",
        "첫번째와 두번째 컬럼을 슬라이싱하는 코드를 작성하세요."
      ],
      "metadata": {
        "id": "9OMbHczposxa"
      }
    },
    {
      "cell_type": "code",
      "source": [
        "arr = np.arange(25).reshape(5, 5)\n",
        "arr"
      ],
      "metadata": {
        "colab": {
          "base_uri": "https://localhost:8080/"
        },
        "id": "2__nzwmnpL8c",
        "outputId": "c492c058-117c-4bdd-da2f-afb343721014"
      },
      "execution_count": 30,
      "outputs": [
        {
          "output_type": "execute_result",
          "data": {
            "text/plain": [
              "array([[ 0,  1,  2,  3,  4],\n",
              "       [ 5,  6,  7,  8,  9],\n",
              "       [10, 11, 12, 13, 14],\n",
              "       [15, 16, 17, 18, 19],\n",
              "       [20, 21, 22, 23, 24]])"
            ]
          },
          "metadata": {},
          "execution_count": 30
        }
      ]
    },
    {
      "cell_type": "code",
      "source": [
        "arr[:,:2]"
      ],
      "metadata": {
        "colab": {
          "base_uri": "https://localhost:8080/"
        },
        "id": "-j694yWPpPDP",
        "outputId": "a9ce4f97-b848-43af-f79f-674eb657d46c"
      },
      "execution_count": 36,
      "outputs": [
        {
          "output_type": "execute_result",
          "data": {
            "text/plain": [
              "array([[ 0,  1],\n",
              "       [ 5,  6],\n",
              "       [10, 11],\n",
              "       [15, 16],\n",
              "       [20, 21]])"
            ]
          },
          "metadata": {},
          "execution_count": 36
        }
      ]
    },
    {
      "cell_type": "markdown",
      "source": [
        "## 29. 슬라이싱 4\n",
        "`6`,`7`,`11`,`12` 를 `2x2 ndarray`로 슬라이싱하는 코드를 작성하세요."
      ],
      "metadata": {
        "id": "fMXrNGPDpYGt"
      }
    },
    {
      "cell_type": "code",
      "source": [
        "arr = np.arange(25).reshape(5, 5)\n",
        "arr"
      ],
      "metadata": {
        "colab": {
          "base_uri": "https://localhost:8080/"
        },
        "id": "OIwW2BIFph7D",
        "outputId": "a3bda1f8-2dcf-4934-aba7-775524630cb7"
      },
      "execution_count": 37,
      "outputs": [
        {
          "output_type": "execute_result",
          "data": {
            "text/plain": [
              "array([[ 0,  1,  2,  3,  4],\n",
              "       [ 5,  6,  7,  8,  9],\n",
              "       [10, 11, 12, 13, 14],\n",
              "       [15, 16, 17, 18, 19],\n",
              "       [20, 21, 22, 23, 24]])"
            ]
          },
          "metadata": {},
          "execution_count": 37
        }
      ]
    },
    {
      "cell_type": "code",
      "source": [
        "arr[1:3,1:3]"
      ],
      "metadata": {
        "colab": {
          "base_uri": "https://localhost:8080/"
        },
        "id": "uJkjcvh_plqD",
        "outputId": "c63321c7-88b1-44aa-cc4d-85e20d32c5b3"
      },
      "execution_count": 38,
      "outputs": [
        {
          "output_type": "execute_result",
          "data": {
            "text/plain": [
              "array([[ 6,  7],\n",
              "       [11, 12]])"
            ]
          },
          "metadata": {},
          "execution_count": 38
        }
      ]
    },
    {
      "cell_type": "markdown",
      "source": [
        "## 30. 슬라이싱 5\n",
        "`0`,`3`,`20`,`23`를 2X2 `ndarray`로 슬라이싱하는 코드를 작성하세요."
      ],
      "metadata": {
        "id": "xVJo9G1sps7I"
      }
    },
    {
      "cell_type": "code",
      "source": [
        "arr = np.arange(25).reshape(5, 5)\n",
        "arr"
      ],
      "metadata": {
        "colab": {
          "base_uri": "https://localhost:8080/"
        },
        "id": "P1IPyAtjp58Q",
        "outputId": "d213c61d-32bb-4b2c-f9b2-d2e3a573d2e5"
      },
      "execution_count": 60,
      "outputs": [
        {
          "output_type": "execute_result",
          "data": {
            "text/plain": [
              "array([[ 0,  1,  2,  3,  4],\n",
              "       [ 5,  6,  7,  8,  9],\n",
              "       [10, 11, 12, 13, 14],\n",
              "       [15, 16, 17, 18, 19],\n",
              "       [20, 21, 22, 23, 24]])"
            ]
          },
          "metadata": {},
          "execution_count": 60
        }
      ]
    },
    {
      "cell_type": "code",
      "source": [
        "arr[[0,-1],0::3]"
      ],
      "metadata": {
        "colab": {
          "base_uri": "https://localhost:8080/"
        },
        "id": "NoV5ha_ep7-D",
        "outputId": "3aa5f30a-1b04-4a02-b430-67bd3c22d945"
      },
      "execution_count": 91,
      "outputs": [
        {
          "output_type": "execute_result",
          "data": {
            "text/plain": [
              "array([[ 0,  3],\n",
              "       [20, 23]])"
            ]
          },
          "metadata": {},
          "execution_count": 91
        }
      ]
    },
    {
      "cell_type": "markdown",
      "source": [
        "## 31. ndarray 곱셈\n",
        "전체 데이터에 10을 곱한 결과를 `ndarray`에 저장하세요."
      ],
      "metadata": {
        "id": "xnNio6mYsrTw"
      }
    },
    {
      "cell_type": "code",
      "source": [
        "data = [1,2,3]\n",
        "result = np.array(data)*10\n",
        "result"
      ],
      "metadata": {
        "colab": {
          "base_uri": "https://localhost:8080/"
        },
        "id": "wdhjteWPsyVV",
        "outputId": "ee812ad7-90b8-4bd6-f398-6627c9203cc1"
      },
      "execution_count": 93,
      "outputs": [
        {
          "output_type": "execute_result",
          "data": {
            "text/plain": [
              "array([10, 20, 30])"
            ]
          },
          "metadata": {},
          "execution_count": 93
        }
      ]
    },
    {
      "cell_type": "markdown",
      "source": [
        "그냥 list는 수치연산을 지원하지 않는다. 수치 연산을 위해서는 ndarry로 반환을 먼저하고 수치연산을 진행하자."
      ],
      "metadata": {
        "id": "2BckVlOmtO58"
      }
    },
    {
      "cell_type": "markdown",
      "source": [
        "## 32. ndarray 제곱\n",
        "전체 데이터에 제곱한 결과를 `ndarray`에 저장하세요."
      ],
      "metadata": {
        "id": "5rPczSbwtVIb"
      }
    },
    {
      "cell_type": "code",
      "source": [
        "data = [1,2,3]\n",
        "result = np.array(data)**2\n",
        "result"
      ],
      "metadata": {
        "colab": {
          "base_uri": "https://localhost:8080/"
        },
        "id": "Cm-OzhSHta4j",
        "outputId": "b76e1b49-50b2-4fdb-bd09-76f92c38a145"
      },
      "execution_count": 94,
      "outputs": [
        {
          "output_type": "execute_result",
          "data": {
            "text/plain": [
              "array([1, 4, 9])"
            ]
          },
          "metadata": {},
          "execution_count": 94
        }
      ]
    },
    {
      "cell_type": "markdown",
      "source": [
        "## 33. ndarray 루트\n",
        "전체 데이터에 루트를 적용한 결과를 `ndarray`에 저장하세요."
      ],
      "metadata": {
        "id": "rKHay8gOtkjF"
      }
    },
    {
      "cell_type": "code",
      "source": [
        "data = [1, 2, 3]\n",
        "result= np.sqrt(np.array(data)) # 다른 방법으론 np.array(data)**(0.5)\n",
        "result"
      ],
      "metadata": {
        "colab": {
          "base_uri": "https://localhost:8080/"
        },
        "id": "F54eOg4vtnSn",
        "outputId": "c8eefb54-535c-4dca-c352-d40cb83fbce8"
      },
      "execution_count": 97,
      "outputs": [
        {
          "output_type": "execute_result",
          "data": {
            "text/plain": [
              "array([1.        , 1.41421356, 1.73205081])"
            ]
          },
          "metadata": {},
          "execution_count": 97
        }
      ]
    },
    {
      "cell_type": "markdown",
      "source": [
        "## 34. ndarray 컬럼 평균\n",
        "다음 `ndarray`에는 중간고사의 국어점수(10), 영어점수(20), 기말고사의 국어점수(14), 영어점수(16)이 저장돼 있습니다."
      ],
      "metadata": {
        "id": "cPejJCJxt_ZG"
      }
    },
    {
      "cell_type": "code",
      "source": [
        "score = np.array([\n",
        "    [10, 20],  # 중간고사\n",
        "    [14, 16]   # 기말고사\n",
        "])"
      ],
      "metadata": {
        "id": "ZG79HnNnuEYF"
      },
      "execution_count": 100,
      "outputs": []
    },
    {
      "cell_type": "markdown",
      "source": [
        "과목별 평균 점수를 출력하세요."
      ],
      "metadata": {
        "id": "WkBv7JZcuGqz"
      }
    },
    {
      "cell_type": "code",
      "source": [
        "score.mean(axis=0)"
      ],
      "metadata": {
        "colab": {
          "base_uri": "https://localhost:8080/"
        },
        "id": "fpKHXLAwuIIK",
        "outputId": "9715cc80-839a-4dd8-becd-7f71d0e0ada7"
      },
      "execution_count": 103,
      "outputs": [
        {
          "output_type": "execute_result",
          "data": {
            "text/plain": [
              "array([12., 18.])"
            ]
          },
          "metadata": {},
          "execution_count": 103
        }
      ]
    },
    {
      "cell_type": "markdown",
      "source": [
        "## 35. ndarray 로우 표준편차\n",
        "다음 `ndarray`에는 중간고사의 국어점수(10), 영어점수(20), 기말고사의 국어점수(14), 영어점수(16)이 저장돼 있습니다."
      ],
      "metadata": {
        "id": "wJWQBCHvuZLE"
      }
    },
    {
      "cell_type": "code",
      "source": [
        "score = np.array([\n",
        "    [10, 20],  # 중간고사\n",
        "    [14, 16]   # 기말고사\n",
        "])"
      ],
      "metadata": {
        "id": "l8JRysn2udpv"
      },
      "execution_count": null,
      "outputs": []
    },
    {
      "cell_type": "markdown",
      "source": [
        "중간고사와 기말고사의 표준편차를 출력하세요."
      ],
      "metadata": {
        "id": "Ezr9lOQVuevr"
      }
    },
    {
      "cell_type": "code",
      "source": [
        "score.std(axis=1)"
      ],
      "metadata": {
        "colab": {
          "base_uri": "https://localhost:8080/"
        },
        "id": "wvczpF8Pugwm",
        "outputId": "e6ad77e0-c9a3-4fb0-a29d-a19f6cc562b2"
      },
      "execution_count": 104,
      "outputs": [
        {
          "output_type": "execute_result",
          "data": {
            "text/plain": [
              "array([5., 1.])"
            ]
          },
          "metadata": {},
          "execution_count": 104
        }
      ]
    },
    {
      "cell_type": "markdown",
      "source": [
        "## 36. 행렬곱\n",
        "두 행렬의 곱셈결과를 출력하세요."
      ],
      "metadata": {
        "id": "K0uJ1mBRu23f"
      }
    },
    {
      "cell_type": "code",
      "source": [
        "a = np.arange(4).reshape(2,2)\n",
        "b = np.arange(1, 5).reshape(2,2)\n",
        "print(\"Matrix a:\\n\",a)\n",
        "print(\"Matrix b:\\n\",b)"
      ],
      "metadata": {
        "colab": {
          "base_uri": "https://localhost:8080/"
        },
        "id": "itRP8Fm9u621",
        "outputId": "6ea0da1a-ac0e-4690-ec71-5f9d2bb8d8ea"
      },
      "execution_count": 105,
      "outputs": [
        {
          "output_type": "stream",
          "name": "stdout",
          "text": [
            "Matrix a:\n",
            " [[0 1]\n",
            " [2 3]]\n",
            "Matrix b:\n",
            " [[1 2]\n",
            " [3 4]]\n"
          ]
        }
      ]
    },
    {
      "cell_type": "code",
      "source": [
        "a@b"
      ],
      "metadata": {
        "colab": {
          "base_uri": "https://localhost:8080/"
        },
        "id": "M2tQtLUdvIxL",
        "outputId": "37ebfcb9-dd21-4597-da13-5119fe7a4f2f"
      },
      "execution_count": 110,
      "outputs": [
        {
          "output_type": "execute_result",
          "data": {
            "text/plain": [
              "array([[ 3,  4],\n",
              "       [11, 16]])"
            ]
          },
          "metadata": {},
          "execution_count": 110
        }
      ]
    },
    {
      "cell_type": "code",
      "source": [
        "np.matmul(a,b) # MATrix MULtiplication의 줄임말로 외우자"
      ],
      "metadata": {
        "colab": {
          "base_uri": "https://localhost:8080/"
        },
        "id": "Z_jFSMpLvUZx",
        "outputId": "80b9e960-854d-4527-fd26-060e927fcca5"
      },
      "execution_count": 112,
      "outputs": [
        {
          "output_type": "execute_result",
          "data": {
            "text/plain": [
              "array([[ 3,  4],\n",
              "       [11, 16]])"
            ]
          },
          "metadata": {},
          "execution_count": 112
        }
      ]
    },
    {
      "cell_type": "markdown",
      "source": [
        "## 37. 전치행렬\n",
        "다음의 `ndarray`로 행과 열의 위치를 바꾼 `전치행렬`을 출력하세요."
      ],
      "metadata": {
        "id": "HTes2UzOvjfh"
      }
    },
    {
      "cell_type": "code",
      "source": [
        "arr = np.arange(9).reshape(3, 3)\n",
        "arr"
      ],
      "metadata": {
        "colab": {
          "base_uri": "https://localhost:8080/"
        },
        "id": "0Mh0U7uovqL2",
        "outputId": "d74cebe6-bf14-4410-b66e-dfd6b6789853"
      },
      "execution_count": 113,
      "outputs": [
        {
          "output_type": "execute_result",
          "data": {
            "text/plain": [
              "array([[0, 1, 2],\n",
              "       [3, 4, 5],\n",
              "       [6, 7, 8]])"
            ]
          },
          "metadata": {},
          "execution_count": 113
        }
      ]
    },
    {
      "cell_type": "code",
      "source": [
        "arr.T # 나의 답"
      ],
      "metadata": {
        "colab": {
          "base_uri": "https://localhost:8080/"
        },
        "id": "0qFRZv8nvsiF",
        "outputId": "50d7dddd-382f-4016-d527-cf29836a3672"
      },
      "execution_count": 116,
      "outputs": [
        {
          "output_type": "execute_result",
          "data": {
            "text/plain": [
              "array([[0, 3, 6],\n",
              "       [1, 4, 7],\n",
              "       [2, 5, 8]])"
            ]
          },
          "metadata": {},
          "execution_count": 116
        }
      ]
    },
    {
      "cell_type": "code",
      "source": [
        "arr.transpose() # 답지에 있는 또 다른 답"
      ],
      "metadata": {
        "colab": {
          "base_uri": "https://localhost:8080/"
        },
        "id": "rP3xXNmGvwn3",
        "outputId": "35ed778b-307c-4e23-b514-331ab1018d5b"
      },
      "execution_count": 115,
      "outputs": [
        {
          "output_type": "execute_result",
          "data": {
            "text/plain": [
              "array([[0, 3, 6],\n",
              "       [1, 4, 7],\n",
              "       [2, 5, 8]])"
            ]
          },
          "metadata": {},
          "execution_count": 115
        }
      ]
    },
    {
      "cell_type": "markdown",
      "source": [
        "## 38. 짝수 배열\n",
        "다음 배열에서 짝수 값만 추출하세요."
      ],
      "metadata": {
        "id": "_r0nAOkGv3s6"
      }
    },
    {
      "cell_type": "code",
      "source": [
        "arr = np.arange(10)\n",
        "arr"
      ],
      "metadata": {
        "colab": {
          "base_uri": "https://localhost:8080/"
        },
        "id": "ZL-sbnrvv7_b",
        "outputId": "09b67ae9-2967-413f-9f08-eda1d8e1c7b3"
      },
      "execution_count": 118,
      "outputs": [
        {
          "output_type": "execute_result",
          "data": {
            "text/plain": [
              "array([0, 1, 2, 3, 4, 5, 6, 7, 8, 9])"
            ]
          },
          "metadata": {},
          "execution_count": 118
        }
      ]
    },
    {
      "cell_type": "code",
      "source": [
        "arr[arr%2==0]"
      ],
      "metadata": {
        "colab": {
          "base_uri": "https://localhost:8080/"
        },
        "id": "MZj-wEKdv-Is",
        "outputId": "f0e2893d-a71e-4537-ff23-98679930b5a7"
      },
      "execution_count": 119,
      "outputs": [
        {
          "output_type": "execute_result",
          "data": {
            "text/plain": [
              "array([0, 2, 4, 6, 8])"
            ]
          },
          "metadata": {},
          "execution_count": 119
        }
      ]
    },
    {
      "cell_type": "markdown",
      "source": [
        "## 39. 홀수 배열\n",
        "다음 배열에서 짝수 값만 추출하세요"
      ],
      "metadata": {
        "id": "Cg5TZ3VnwJw3"
      }
    },
    {
      "cell_type": "code",
      "source": [
        "arr =np.arange(10)\n",
        "arr"
      ],
      "metadata": {
        "colab": {
          "base_uri": "https://localhost:8080/"
        },
        "id": "MjL2QVvGwImc",
        "outputId": "7ae3edcd-39bd-4dfe-cf06-a071c4c4abc9"
      },
      "execution_count": 121,
      "outputs": [
        {
          "output_type": "execute_result",
          "data": {
            "text/plain": [
              "array([0, 1, 2, 3, 4, 5, 6, 7, 8, 9])"
            ]
          },
          "metadata": {},
          "execution_count": 121
        }
      ]
    },
    {
      "cell_type": "code",
      "source": [
        "arr[arr%2!=0]"
      ],
      "metadata": {
        "colab": {
          "base_uri": "https://localhost:8080/"
        },
        "id": "G8J88Q6hwSdY",
        "outputId": "55209856-863a-42a2-e60b-14a2b15f6ebf"
      },
      "execution_count": 122,
      "outputs": [
        {
          "output_type": "execute_result",
          "data": {
            "text/plain": [
              "array([1, 3, 5, 7, 9])"
            ]
          },
          "metadata": {},
          "execution_count": 122
        }
      ]
    },
    {
      "cell_type": "markdown",
      "source": [
        "## 40. 여러 조건\n",
        "다음 배열에서 3보다 크고 7보다 작은수만 추출하세요"
      ],
      "metadata": {
        "id": "nLhfpXXhwWcN"
      }
    },
    {
      "cell_type": "code",
      "source": [
        "arr = np.arange(10)\n",
        "arr"
      ],
      "metadata": {
        "colab": {
          "base_uri": "https://localhost:8080/"
        },
        "id": "RXRV1DanxY4p",
        "outputId": "6c6ca6f0-52ce-4256-e38a-102e1ee9e0ca"
      },
      "execution_count": 124,
      "outputs": [
        {
          "output_type": "execute_result",
          "data": {
            "text/plain": [
              "array([0, 1, 2, 3, 4, 5, 6, 7, 8, 9])"
            ]
          },
          "metadata": {},
          "execution_count": 124
        }
      ]
    },
    {
      "cell_type": "code",
      "source": [
        "arr[(arr>3)&(arr<7)]"
      ],
      "metadata": {
        "colab": {
          "base_uri": "https://localhost:8080/"
        },
        "id": "eIk6wxY2xcJR",
        "outputId": "640610b1-6337-4c50-ce0d-94ad246de576"
      },
      "execution_count": 125,
      "outputs": [
        {
          "output_type": "execute_result",
          "data": {
            "text/plain": [
              "array([4, 5, 6])"
            ]
          },
          "metadata": {},
          "execution_count": 125
        }
      ]
    },
    {
      "cell_type": "markdown",
      "source": [
        "## 41. 조건에 맞는 원소값 출력\n",
        "다음 `ndarray`객체에서 음수를 출력하세요."
      ],
      "metadata": {
        "id": "DfGgxekAxmlN"
      }
    },
    {
      "cell_type": "code",
      "source": [
        "arr = np.array([-1, 2, -3, 4])\n",
        "arr"
      ],
      "metadata": {
        "colab": {
          "base_uri": "https://localhost:8080/"
        },
        "id": "B9PhXCgYxrt3",
        "outputId": "47852425-4055-4316-bdac-f6bfe5e60072"
      },
      "execution_count": 126,
      "outputs": [
        {
          "output_type": "execute_result",
          "data": {
            "text/plain": [
              "array([-1,  2, -3,  4])"
            ]
          },
          "metadata": {},
          "execution_count": 126
        }
      ]
    },
    {
      "cell_type": "code",
      "source": [
        "arr[arr<0]"
      ],
      "metadata": {
        "colab": {
          "base_uri": "https://localhost:8080/"
        },
        "id": "ydfPuQaWxuJt",
        "outputId": "46c3458c-ead8-4c9e-b5e6-463f1f4b4bce"
      },
      "execution_count": 127,
      "outputs": [
        {
          "output_type": "execute_result",
          "data": {
            "text/plain": [
              "array([-1, -3])"
            ]
          },
          "metadata": {},
          "execution_count": 127
        }
      ]
    },
    {
      "cell_type": "markdown",
      "source": [
        "## 42. 조건에 맞는 원소값 변경 1\n",
        "다음 `ndarray`객체에서 음수를 0으로 치환하세요."
      ],
      "metadata": {
        "id": "xg0yOpO-xxvU"
      }
    },
    {
      "cell_type": "code",
      "source": [
        "arr = np.array([-1, 2, -3, 4])\n",
        "arr[arr<0] = 0\n",
        "arr"
      ],
      "metadata": {
        "colab": {
          "base_uri": "https://localhost:8080/"
        },
        "id": "sYvqge4ux4Rx",
        "outputId": "7ce2de5b-3af8-41d7-fd3a-b063d2e2c76c"
      },
      "execution_count": 129,
      "outputs": [
        {
          "output_type": "execute_result",
          "data": {
            "text/plain": [
              "array([0, 2, 0, 4])"
            ]
          },
          "metadata": {},
          "execution_count": 129
        }
      ]
    },
    {
      "cell_type": "markdown",
      "source": [
        "## 43. 조건에 맞는 원소값 변경 2\n",
        "다음 `ndarray` 객체에서 음수를 양수로 변환하세요"
      ],
      "metadata": {
        "id": "C1wxtTjGyEnT"
      }
    },
    {
      "cell_type": "code",
      "source": [
        "arr = np.array([-1, 2, -3, 4])\n",
        "arr[arr<0] = abs(arr[arr<0])\n",
        "arr"
      ],
      "metadata": {
        "colab": {
          "base_uri": "https://localhost:8080/"
        },
        "id": "eLWrHTKuyMV0",
        "outputId": "e1bbb0cc-4970-47c2-915b-1ad9160fc68c"
      },
      "execution_count": 131,
      "outputs": [
        {
          "output_type": "execute_result",
          "data": {
            "text/plain": [
              "array([1, 2, 3, 4])"
            ]
          },
          "metadata": {},
          "execution_count": 131
        }
      ]
    },
    {
      "cell_type": "code",
      "source": [
        "arr = np.array([-1, 2, -3, 4])\n",
        "abs(arr)"
      ],
      "metadata": {
        "colab": {
          "base_uri": "https://localhost:8080/"
        },
        "id": "qORgfetky0IR",
        "outputId": "ea096ad8-85a5-4f32-ee95-86610e965429"
      },
      "execution_count": 135,
      "outputs": [
        {
          "output_type": "execute_result",
          "data": {
            "text/plain": [
              "array([1, 2, 3, 4])"
            ]
          },
          "metadata": {},
          "execution_count": 135
        }
      ]
    },
    {
      "cell_type": "markdown",
      "source": [
        "## 44. 조건에 맞는 원소값 변경 3\n",
        "다음 `ndarray`객체에서 양수 혹은 0이면 10을 더하고 음수는 10을 빼세요."
      ],
      "metadata": {
        "id": "ULHxw4u7yV5M"
      }
    },
    {
      "cell_type": "code",
      "source": [
        "arr = np.array([-1,2,-3,4])\n",
        "arr[arr>=0] = arr[arr>=0]+10\n",
        "arr[arr<0] = arr[arr<0]-10\n",
        "arr"
      ],
      "metadata": {
        "colab": {
          "base_uri": "https://localhost:8080/"
        },
        "id": "znFhBtrVyc_a",
        "outputId": "39d9f005-e5ae-4545-a714-1c2629fc67ea"
      },
      "execution_count": 134,
      "outputs": [
        {
          "output_type": "execute_result",
          "data": {
            "text/plain": [
              "array([-11,  12, -13,  14])"
            ]
          },
          "metadata": {},
          "execution_count": 134
        }
      ]
    },
    {
      "cell_type": "code",
      "source": [
        "np.where(arr>=0,arr+10,arr-10)"
      ],
      "metadata": {
        "colab": {
          "base_uri": "https://localhost:8080/"
        },
        "id": "VByAfzmky3xu",
        "outputId": "a79e923b-dd7c-4f09-837f-bcb5ab89cfc7"
      },
      "execution_count": 137,
      "outputs": [
        {
          "output_type": "execute_result",
          "data": {
            "text/plain": [
              "array([-11,  12, -13,  14])"
            ]
          },
          "metadata": {},
          "execution_count": 137
        }
      ]
    },
    {
      "cell_type": "markdown",
      "source": [
        "`np.where`은 주어진 조건에 따라서 True인 경우 X를 그렇지 않은 경우는 y를 출력한다. 위의 코드에서는 X = arr+10, y = arr-10이 된다."
      ],
      "metadata": {
        "id": "bFL9wY8ozDHY"
      }
    },
    {
      "cell_type": "markdown",
      "source": [
        "## 45. shuffle\n",
        "numpy random 모듈의 shuffle 함수를 사용해서 입력 리스트의 원소들을 랜덤하게 섞어 보세요."
      ],
      "metadata": {
        "id": "5tkqm3B1zcs4"
      }
    },
    {
      "cell_type": "code",
      "source": [
        "arr = [1, 2, 3, 4, 5]"
      ],
      "metadata": {
        "id": "qHLNGOKuzoOU"
      },
      "execution_count": 152,
      "outputs": []
    },
    {
      "cell_type": "code",
      "source": [
        "from numpy.random import shuffle\n",
        "arr = np.array(arr)\n",
        "shuffle(arr)\n",
        "arr"
      ],
      "metadata": {
        "colab": {
          "base_uri": "https://localhost:8080/"
        },
        "id": "WFOaJmjIzoqP",
        "outputId": "eb745bb3-98fa-4c49-eaf1-2a4cb6c906d2"
      },
      "execution_count": 157,
      "outputs": [
        {
          "output_type": "execute_result",
          "data": {
            "text/plain": [
              "array([3, 5, 2, 4, 1])"
            ]
          },
          "metadata": {},
          "execution_count": 157
        }
      ]
    },
    {
      "cell_type": "markdown",
      "source": [
        "shuffle 함수는 말그대로 배열을 섞어주기만하고 출력은 안하는 것 같다."
      ],
      "metadata": {
        "id": "zebGqbJf0cLD"
      }
    },
    {
      "cell_type": "markdown",
      "source": [
        "## 46. argmin\n",
        "다음 넘파일 배열에서 최솟값의 인덱스를 출력하세요."
      ],
      "metadata": {
        "id": "ol-q0rdt2C5q"
      }
    },
    {
      "cell_type": "code",
      "source": [
        "arr = np.array([1, 2, 3, 4, 5])\n",
        "arr.argmin()"
      ],
      "metadata": {
        "colab": {
          "base_uri": "https://localhost:8080/"
        },
        "id": "ncHxiVam2HNH",
        "outputId": "cd811d70-1123-4aab-f7f1-06ce8e6a546d"
      },
      "execution_count": 167,
      "outputs": [
        {
          "output_type": "execute_result",
          "data": {
            "text/plain": [
              "0"
            ]
          },
          "metadata": {},
          "execution_count": 167
        }
      ]
    },
    {
      "cell_type": "markdown",
      "source": [
        "## 47. argmax\n",
        "다음 넘파일 배열에서 최댓값의 **인덱스**를 출력하세요."
      ],
      "metadata": {
        "id": "cQNDaSPm0jzT"
      }
    },
    {
      "cell_type": "code",
      "source": [
        "arr = np.array([1,2,3,4,5])\n",
        "arr.argmax()"
      ],
      "metadata": {
        "colab": {
          "base_uri": "https://localhost:8080/"
        },
        "id": "r3WXlxZx0mug",
        "outputId": "a96876b9-9e68-44e5-b7d5-1b5f75df76d8"
      },
      "execution_count": 158,
      "outputs": [
        {
          "output_type": "execute_result",
          "data": {
            "text/plain": [
              "4"
            ]
          },
          "metadata": {},
          "execution_count": 158
        }
      ]
    },
    {
      "cell_type": "markdown",
      "source": [
        "## 48. 정렬\n",
        "다음 넘파이 배열을 오름차순 정렬해보세요."
      ],
      "metadata": {
        "id": "Qa9aPgoE0zlW"
      }
    },
    {
      "cell_type": "code",
      "source": [
        "arr = np.array([2, 1, 5, 3, 7, 4, 6, 8])\n",
        "np.sort(arr)"
      ],
      "metadata": {
        "colab": {
          "base_uri": "https://localhost:8080/"
        },
        "id": "Ut57bYmk026Z",
        "outputId": "07d6aae5-1cd3-4176-a6ae-3f96fc78bdec"
      },
      "execution_count": 162,
      "outputs": [
        {
          "output_type": "execute_result",
          "data": {
            "text/plain": [
              "array([1, 2, 3, 4, 5, 6, 7, 8])"
            ]
          },
          "metadata": {},
          "execution_count": 162
        }
      ]
    },
    {
      "cell_type": "markdown",
      "source": [
        "## 49. numpy.vstack\n",
        "numpy.vstack 함수를 사용하여 다음 2차원 배열을 생성하세요."
      ],
      "metadata": {
        "id": "TvAj3tel1TNl"
      }
    },
    {
      "cell_type": "code",
      "source": [
        "arr1 = np.array([1, 2])\n",
        "arr2 = np.array([3, 4])"
      ],
      "metadata": {
        "id": "s405CyNl1XiP"
      },
      "execution_count": 163,
      "outputs": []
    },
    {
      "cell_type": "code",
      "source": [
        "np.vstack((arr1,arr2))"
      ],
      "metadata": {
        "colab": {
          "base_uri": "https://localhost:8080/"
        },
        "id": "96Vc4KAa1YQa",
        "outputId": "6eb653bc-e61b-440d-e434-7a552317f72c"
      },
      "execution_count": 166,
      "outputs": [
        {
          "output_type": "execute_result",
          "data": {
            "text/plain": [
              "array([[1, 2],\n",
              "       [3, 4]])"
            ]
          },
          "metadata": {},
          "execution_count": 166
        }
      ]
    },
    {
      "cell_type": "markdown",
      "source": [
        "`vstack`은 array를 수직하게(행방향)으로 쌓는 명령어이다."
      ],
      "metadata": {
        "id": "EuENCUQi1rv0"
      }
    },
    {
      "cell_type": "markdown",
      "source": [
        "## 50. flatten\n",
        "flatten 메서드를 사용하여 다음 배열을 1차원 배열로 변경하세요."
      ],
      "metadata": {
        "id": "hJqcDSDP2NxF"
      }
    },
    {
      "cell_type": "code",
      "source": [
        "arr = np.array([[1, 2],[3, 4]])"
      ],
      "metadata": {
        "id": "toWzF80e2RRZ"
      },
      "execution_count": 169,
      "outputs": []
    },
    {
      "cell_type": "code",
      "source": [
        "arr.flatten()"
      ],
      "metadata": {
        "colab": {
          "base_uri": "https://localhost:8080/"
        },
        "id": "4FL_ZIeV2S0S",
        "outputId": "f6f6cc2c-6022-41c6-f113-b27d5692268d"
      },
      "execution_count": 170,
      "outputs": [
        {
          "output_type": "execute_result",
          "data": {
            "text/plain": [
              "array([1, 2, 3, 4])"
            ]
          },
          "metadata": {},
          "execution_count": 170
        }
      ]
    }
  ]
}