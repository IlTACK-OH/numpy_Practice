{
  "nbformat": 4,
  "nbformat_minor": 0,
  "metadata": {
    "colab": {
      "provenance": [],
      "authorship_tag": "ABX9TyN/3FzUOqBWCxoC3WSKlHwL",
      "include_colab_link": true
    },
    "kernelspec": {
      "name": "python3",
      "display_name": "Python 3"
    },
    "language_info": {
      "name": "python"
    }
  },
  "cells": [
    {
      "cell_type": "markdown",
      "metadata": {
        "id": "view-in-github",
        "colab_type": "text"
      },
      "source": [
        "<a href=\"https://colab.research.google.com/github/IlTACK-OH/numpy_Practice/blob/main/numpy_day1.ipynb\" target=\"_parent\"><img src=\"https://colab.research.google.com/assets/colab-badge.svg\" alt=\"Open In Colab\"/></a>"
      ]
    },
    {
      "cell_type": "markdown",
      "source": [
        "# Day1"
      ],
      "metadata": {
        "id": "6jFXaln-W6CA"
      }
    },
    {
      "cell_type": "markdown",
      "source": [
        "## 1. 넘파이 임포트\n",
        "넘파이 모듈을 np라는 이름으로 임포트해보세요."
      ],
      "metadata": {
        "id": "VRyqAUxRW323"
      }
    },
    {
      "cell_type": "code",
      "execution_count": 1,
      "metadata": {
        "id": "OtqZNmLCW23l"
      },
      "outputs": [],
      "source": [
        "import numpy as np"
      ]
    },
    {
      "cell_type": "markdown",
      "source": [
        "## 2. ndarray\n",
        "리스트를 넘파이의 ndarray 객체로 변환해보세요.<br>\n",
        "data = [1, 2, 3]"
      ],
      "metadata": {
        "id": "TMtrVsZeXCR1"
      }
    },
    {
      "cell_type": "code",
      "source": [
        "data = [1,2,3]\n",
        "np.array(data)"
      ],
      "metadata": {
        "colab": {
          "base_uri": "https://localhost:8080/"
        },
        "id": "otfJ70BbiAZc",
        "outputId": "2693c9e3-e1b4-43b5-ee6c-9b83a52ecab4"
      },
      "execution_count": 3,
      "outputs": [
        {
          "output_type": "execute_result",
          "data": {
            "text/plain": [
              "array([1, 2, 3])"
            ]
          },
          "metadata": {},
          "execution_count": 3
        }
      ]
    },
    {
      "cell_type": "markdown",
      "source": [
        "## 3. arange\n",
        "0부터 99까지의 정수가 저장된 ndarray 객체를 만들어 보세요."
      ],
      "metadata": {
        "id": "lXvYBhv7XHmx"
      }
    },
    {
      "cell_type": "code",
      "source": [
        "np.arange(100)"
      ],
      "metadata": {
        "colab": {
          "base_uri": "https://localhost:8080/"
        },
        "id": "4MCHilFaiJ-1",
        "outputId": "7bae313d-fa85-4c7f-b4e4-42acc8f18321"
      },
      "execution_count": 12,
      "outputs": [
        {
          "output_type": "execute_result",
          "data": {
            "text/plain": [
              "array([ 0,  1,  2,  3,  4,  5,  6,  7,  8,  9, 10, 11, 12, 13, 14, 15, 16,\n",
              "       17, 18, 19, 20, 21, 22, 23, 24, 25, 26, 27, 28, 29, 30, 31, 32, 33,\n",
              "       34, 35, 36, 37, 38, 39, 40, 41, 42, 43, 44, 45, 46, 47, 48, 49, 50,\n",
              "       51, 52, 53, 54, 55, 56, 57, 58, 59, 60, 61, 62, 63, 64, 65, 66, 67,\n",
              "       68, 69, 70, 71, 72, 73, 74, 75, 76, 77, 78, 79, 80, 81, 82, 83, 84,\n",
              "       85, 86, 87, 88, 89, 90, 91, 92, 93, 94, 95, 96, 97, 98, 99])"
            ]
          },
          "metadata": {},
          "execution_count": 12
        }
      ]
    },
    {
      "cell_type": "markdown",
      "source": [
        "## 4. arange\n",
        "구구단 3단의 결과가 저장된 ndarray 객체를 만들어 보세요.\n",
        "> arr\n",
        "[ 3  6  9 12 15 18 21 24 27]\n"
      ],
      "metadata": {
        "id": "v1VhfHKpXKMy"
      }
    },
    {
      "cell_type": "code",
      "source": [
        "np.arange(1,10)*3"
      ],
      "metadata": {
        "colab": {
          "base_uri": "https://localhost:8080/"
        },
        "id": "FyCVeufPjPSa",
        "outputId": "1692a99c-f9b8-407a-c790-2e6e9ec69570"
      },
      "execution_count": 15,
      "outputs": [
        {
          "output_type": "execute_result",
          "data": {
            "text/plain": [
              "array([ 3,  6,  9, 12, 15, 18, 21, 24, 27])"
            ]
          },
          "metadata": {},
          "execution_count": 15
        }
      ]
    },
    {
      "cell_type": "markdown",
      "source": [
        "## 5. arange\n",
        "1000보다 작은 짝수가 저장된 ndarray 객체를 만들어 보세요."
      ],
      "metadata": {
        "id": "8jYWG4R3XOdZ"
      }
    },
    {
      "cell_type": "code",
      "source": [
        "np.arange(2,1000,2)"
      ],
      "metadata": {
        "colab": {
          "base_uri": "https://localhost:8080/"
        },
        "id": "RcLLWx_SjhsR",
        "outputId": "6e245d5e-d6bb-46a2-ca66-de693dedc6fa"
      },
      "execution_count": 18,
      "outputs": [
        {
          "output_type": "execute_result",
          "data": {
            "text/plain": [
              "array([  2,   4,   6,   8,  10,  12,  14,  16,  18,  20,  22,  24,  26,\n",
              "        28,  30,  32,  34,  36,  38,  40,  42,  44,  46,  48,  50,  52,\n",
              "        54,  56,  58,  60,  62,  64,  66,  68,  70,  72,  74,  76,  78,\n",
              "        80,  82,  84,  86,  88,  90,  92,  94,  96,  98, 100, 102, 104,\n",
              "       106, 108, 110, 112, 114, 116, 118, 120, 122, 124, 126, 128, 130,\n",
              "       132, 134, 136, 138, 140, 142, 144, 146, 148, 150, 152, 154, 156,\n",
              "       158, 160, 162, 164, 166, 168, 170, 172, 174, 176, 178, 180, 182,\n",
              "       184, 186, 188, 190, 192, 194, 196, 198, 200, 202, 204, 206, 208,\n",
              "       210, 212, 214, 216, 218, 220, 222, 224, 226, 228, 230, 232, 234,\n",
              "       236, 238, 240, 242, 244, 246, 248, 250, 252, 254, 256, 258, 260,\n",
              "       262, 264, 266, 268, 270, 272, 274, 276, 278, 280, 282, 284, 286,\n",
              "       288, 290, 292, 294, 296, 298, 300, 302, 304, 306, 308, 310, 312,\n",
              "       314, 316, 318, 320, 322, 324, 326, 328, 330, 332, 334, 336, 338,\n",
              "       340, 342, 344, 346, 348, 350, 352, 354, 356, 358, 360, 362, 364,\n",
              "       366, 368, 370, 372, 374, 376, 378, 380, 382, 384, 386, 388, 390,\n",
              "       392, 394, 396, 398, 400, 402, 404, 406, 408, 410, 412, 414, 416,\n",
              "       418, 420, 422, 424, 426, 428, 430, 432, 434, 436, 438, 440, 442,\n",
              "       444, 446, 448, 450, 452, 454, 456, 458, 460, 462, 464, 466, 468,\n",
              "       470, 472, 474, 476, 478, 480, 482, 484, 486, 488, 490, 492, 494,\n",
              "       496, 498, 500, 502, 504, 506, 508, 510, 512, 514, 516, 518, 520,\n",
              "       522, 524, 526, 528, 530, 532, 534, 536, 538, 540, 542, 544, 546,\n",
              "       548, 550, 552, 554, 556, 558, 560, 562, 564, 566, 568, 570, 572,\n",
              "       574, 576, 578, 580, 582, 584, 586, 588, 590, 592, 594, 596, 598,\n",
              "       600, 602, 604, 606, 608, 610, 612, 614, 616, 618, 620, 622, 624,\n",
              "       626, 628, 630, 632, 634, 636, 638, 640, 642, 644, 646, 648, 650,\n",
              "       652, 654, 656, 658, 660, 662, 664, 666, 668, 670, 672, 674, 676,\n",
              "       678, 680, 682, 684, 686, 688, 690, 692, 694, 696, 698, 700, 702,\n",
              "       704, 706, 708, 710, 712, 714, 716, 718, 720, 722, 724, 726, 728,\n",
              "       730, 732, 734, 736, 738, 740, 742, 744, 746, 748, 750, 752, 754,\n",
              "       756, 758, 760, 762, 764, 766, 768, 770, 772, 774, 776, 778, 780,\n",
              "       782, 784, 786, 788, 790, 792, 794, 796, 798, 800, 802, 804, 806,\n",
              "       808, 810, 812, 814, 816, 818, 820, 822, 824, 826, 828, 830, 832,\n",
              "       834, 836, 838, 840, 842, 844, 846, 848, 850, 852, 854, 856, 858,\n",
              "       860, 862, 864, 866, 868, 870, 872, 874, 876, 878, 880, 882, 884,\n",
              "       886, 888, 890, 892, 894, 896, 898, 900, 902, 904, 906, 908, 910,\n",
              "       912, 914, 916, 918, 920, 922, 924, 926, 928, 930, 932, 934, 936,\n",
              "       938, 940, 942, 944, 946, 948, 950, 952, 954, 956, 958, 960, 962,\n",
              "       964, 966, 968, 970, 972, 974, 976, 978, 980, 982, 984, 986, 988,\n",
              "       990, 992, 994, 996, 998])"
            ]
          },
          "metadata": {},
          "execution_count": 18
        }
      ]
    },
    {
      "cell_type": "markdown",
      "source": [
        "## 6. 실수 range\n",
        "0부터 1까지 0.1 간격으로 구성된 ndarray를 생성해보세요. 1은 포함되지 않습니다."
      ],
      "metadata": {
        "id": "To3xkZ_iXRGL"
      }
    },
    {
      "cell_type": "code",
      "source": [
        "np.arange(0,1,0.1)"
      ],
      "metadata": {
        "colab": {
          "base_uri": "https://localhost:8080/"
        },
        "id": "GK_qWtzpjt6N",
        "outputId": "6ade8b70-0b3d-47a7-e4a2-36ce1441e70d"
      },
      "execution_count": 19,
      "outputs": [
        {
          "output_type": "execute_result",
          "data": {
            "text/plain": [
              "array([0. , 0.1, 0.2, 0.3, 0.4, 0.5, 0.6, 0.7, 0.8, 0.9])"
            ]
          },
          "metadata": {},
          "execution_count": 19
        }
      ]
    },
    {
      "cell_type": "markdown",
      "source": [
        "## 7. reshape\n",
        "리스트에는 6개의 데이터가 저장돼 있습니다.\n",
        "> data = [0, 1, 2, 3, 4, 5]\n",
        "\n",
        "다음과 같이 2행 3열의 ndarray로 변환하세요.\n",
        "\n",
        ">[[0 1 2]<br>\n",
        " [3 4 5]]"
      ],
      "metadata": {
        "id": "ERZJ5HI_XTai"
      }
    },
    {
      "cell_type": "code",
      "source": [
        "data = [0, 1, 2, 3, 4, 5]\n",
        "np.array(data).reshape((2,3))"
      ],
      "metadata": {
        "colab": {
          "base_uri": "https://localhost:8080/"
        },
        "id": "A3lgjwr3j0iX",
        "outputId": "246343ca-b068-4de6-87bd-99f9f2fba9e6"
      },
      "execution_count": 21,
      "outputs": [
        {
          "output_type": "execute_result",
          "data": {
            "text/plain": [
              "array([[0, 1, 2],\n",
              "       [3, 4, 5]])"
            ]
          },
          "metadata": {},
          "execution_count": 21
        }
      ]
    },
    {
      "cell_type": "markdown",
      "source": [
        "## 8. reshape\n",
        "다음의 2차원 ndarray 1차원 ndarray로 변환하세요.\n",
        "\n",
        "> arr = np.array([<br>\n",
        "    [0, 1, 2],<br>\n",
        "    [3, 4, 5]<br>\n",
        "])"
      ],
      "metadata": {
        "id": "ruaaxRNlXdfU"
      }
    },
    {
      "cell_type": "code",
      "source": [
        "arr = np.array([\n",
        "[0, 1, 2],\n",
        "[3, 4, 5]\n",
        "])\n",
        "\n",
        "print(arr.reshape(6))\n",
        "print(arr.flatten())"
      ],
      "metadata": {
        "colab": {
          "base_uri": "https://localhost:8080/"
        },
        "id": "0QPCNRfOlIIl",
        "outputId": "7d39f1ff-d3c9-4657-a15f-31c061e82252"
      },
      "execution_count": 25,
      "outputs": [
        {
          "output_type": "stream",
          "name": "stdout",
          "text": [
            "[0 1 2 3 4 5]\n",
            "[0 1 2 3 4 5]\n"
          ]
        }
      ]
    },
    {
      "cell_type": "markdown",
      "source": [
        "## 9. reshape\n",
        "주어진 ndarray를 다음과 같이 변경해 보세요.\n",
        "\n",
        "arr = np.arange(3)\n",
        "\n",
        "[[0]<br>\n",
        " [1]<br>\n",
        " [2]]"
      ],
      "metadata": {
        "id": "fVT1iDw8XmbP"
      }
    },
    {
      "cell_type": "code",
      "source": [
        "arr = np.arange(3)\n",
        "arr.reshape(3,1)"
      ],
      "metadata": {
        "colab": {
          "base_uri": "https://localhost:8080/"
        },
        "id": "9K435SxwliY-",
        "outputId": "b7010614-4c50-4758-ff34-7abf54d8edd2"
      },
      "execution_count": 27,
      "outputs": [
        {
          "output_type": "execute_result",
          "data": {
            "text/plain": [
              "array([[0],\n",
              "       [1],\n",
              "       [2]])"
            ]
          },
          "metadata": {},
          "execution_count": 27
        }
      ]
    },
    {
      "cell_type": "markdown",
      "source": [
        "## 10. 에러의 원인을 설명하세요.\n",
        "\n",
        "> np.arange(6).reshape(2, 4)\n",
        "ValueError: cannot reshape array of size 6 into shape (2,4)"
      ],
      "metadata": {
        "id": "37XeUoN-XsCN"
      }
    },
    {
      "cell_type": "markdown",
      "source": [
        "6개의 데이터를 가지고 8개의 데이터가 필요한 행렬을 만들려고해서. 데이터의 갯수가 부족해서 Error발생."
      ],
      "metadata": {
        "id": "btycQv_ZltNr"
      }
    },
    {
      "cell_type": "markdown",
      "source": [
        "## 11. 2차원 배열\n",
        "다음과 같이 2차원 ndarray 객체를 정의하세요.\n",
        "\n",
        ">[[0 1 2]<br>\n",
        " [3 4 5]]"
      ],
      "metadata": {
        "id": "SV4al6m3maYU"
      }
    },
    {
      "cell_type": "code",
      "source": [
        "np.array([[0,1,2],[3,4,5]])"
      ],
      "metadata": {
        "colab": {
          "base_uri": "https://localhost:8080/"
        },
        "id": "EliMLlop2czO",
        "outputId": "3ac6ea93-10fe-4df1-9cd8-c2422a302a06"
      },
      "execution_count": 31,
      "outputs": [
        {
          "output_type": "execute_result",
          "data": {
            "text/plain": [
              "array([[0, 1, 2],\n",
              "       [3, 4, 5]])"
            ]
          },
          "metadata": {},
          "execution_count": 31
        }
      ]
    },
    {
      "cell_type": "markdown",
      "source": [
        "## 12. ones\n",
        "1이 20개 저장된 아래의 ndarray 객체를 만들어 보세요.\n",
        "\n",
        "[1 1 1 1 1 1 1 1 1 1 1 1 1 1 1 1 1 1 1 1]"
      ],
      "metadata": {
        "id": "1JzQhX50mep_"
      }
    },
    {
      "cell_type": "code",
      "source": [
        "print(\"using array:\",np.array([1]*20))\n",
        "print(\"or\")\n",
        "print(\"using ones:\",np.ones(20,dtype=int))"
      ],
      "metadata": {
        "colab": {
          "base_uri": "https://localhost:8080/"
        },
        "id": "yYGazESb3PLp",
        "outputId": "733533a3-bf79-4cf3-87f9-c2a9a544f4ca"
      },
      "execution_count": 36,
      "outputs": [
        {
          "output_type": "stream",
          "name": "stdout",
          "text": [
            "using array: [1 1 1 1 1 1 1 1 1 1 1 1 1 1 1 1 1 1 1 1]\n",
            "or\n",
            "using ones: [1 1 1 1 1 1 1 1 1 1 1 1 1 1 1 1 1 1 1 1]\n"
          ]
        }
      ]
    },
    {
      "cell_type": "markdown",
      "source": [
        "## 13. ones\n",
        "4행 5열로 저장된 아래의 ndarray 객체를 만들어 보세요.\n",
        "\n",
        ">[[1 1 1 1 1]<br>\n",
        " [1 1 1 1 1]<br>\n",
        " [1 1 1 1 1]<br>\n",
        " [1 1 1 1 1]]"
      ],
      "metadata": {
        "id": "1TJClPej1xlw"
      }
    },
    {
      "cell_type": "code",
      "source": [
        "np.array([1]*20).reshape((4,5))"
      ],
      "metadata": {
        "colab": {
          "base_uri": "https://localhost:8080/"
        },
        "id": "mQC8rmVB4DIY",
        "outputId": "abad3ad5-2ef0-404b-db27-3ed702d54c84"
      },
      "execution_count": 33,
      "outputs": [
        {
          "output_type": "execute_result",
          "data": {
            "text/plain": [
              "array([[1, 1, 1, 1, 1],\n",
              "       [1, 1, 1, 1, 1],\n",
              "       [1, 1, 1, 1, 1],\n",
              "       [1, 1, 1, 1, 1]])"
            ]
          },
          "metadata": {},
          "execution_count": 33
        }
      ]
    },
    {
      "cell_type": "code",
      "source": [
        "np.ones(20,dtype=int).reshape((4,5))"
      ],
      "metadata": {
        "colab": {
          "base_uri": "https://localhost:8080/"
        },
        "id": "AkYl_mdF47Yp",
        "outputId": "5c08d08a-a0e6-4b9e-f6ad-1ad62653bc51"
      },
      "execution_count": 37,
      "outputs": [
        {
          "output_type": "execute_result",
          "data": {
            "text/plain": [
              "array([[1, 1, 1, 1, 1],\n",
              "       [1, 1, 1, 1, 1],\n",
              "       [1, 1, 1, 1, 1],\n",
              "       [1, 1, 1, 1, 1]])"
            ]
          },
          "metadata": {},
          "execution_count": 37
        }
      ]
    },
    {
      "cell_type": "markdown",
      "source": [
        "## 14. ones\n",
        "255로 채워진 10X10 크기의 ndarray 객체를 생성하세요."
      ],
      "metadata": {
        "id": "Pk9ySmCI16nW"
      }
    },
    {
      "cell_type": "code",
      "source": [
        "(np.ones(100,dtype=int)*255).reshape((10,10))"
      ],
      "metadata": {
        "colab": {
          "base_uri": "https://localhost:8080/"
        },
        "id": "ajMCHLRo5Geb",
        "outputId": "1dd7fbfa-e133-48b6-cbcf-56846da66162"
      },
      "execution_count": 40,
      "outputs": [
        {
          "output_type": "execute_result",
          "data": {
            "text/plain": [
              "array([[255, 255, 255, 255, 255, 255, 255, 255, 255, 255],\n",
              "       [255, 255, 255, 255, 255, 255, 255, 255, 255, 255],\n",
              "       [255, 255, 255, 255, 255, 255, 255, 255, 255, 255],\n",
              "       [255, 255, 255, 255, 255, 255, 255, 255, 255, 255],\n",
              "       [255, 255, 255, 255, 255, 255, 255, 255, 255, 255],\n",
              "       [255, 255, 255, 255, 255, 255, 255, 255, 255, 255],\n",
              "       [255, 255, 255, 255, 255, 255, 255, 255, 255, 255],\n",
              "       [255, 255, 255, 255, 255, 255, 255, 255, 255, 255],\n",
              "       [255, 255, 255, 255, 255, 255, 255, 255, 255, 255],\n",
              "       [255, 255, 255, 255, 255, 255, 255, 255, 255, 255]])"
            ]
          },
          "metadata": {},
          "execution_count": 40
        }
      ]
    },
    {
      "cell_type": "markdown",
      "source": [
        "## 15. zeros\n",
        "3x4 (행x열) 크기의 0으로 채워진 배열을 생생해보세요."
      ],
      "metadata": {
        "id": "1YbGxzhp19BZ"
      }
    },
    {
      "cell_type": "code",
      "source": [
        "np.zeros((3,4),dtype=int)"
      ],
      "metadata": {
        "colab": {
          "base_uri": "https://localhost:8080/"
        },
        "id": "FT93jBwy5eeL",
        "outputId": "5d361dde-621d-4ce5-c0df-eb0fd0914334"
      },
      "execution_count": 46,
      "outputs": [
        {
          "output_type": "execute_result",
          "data": {
            "text/plain": [
              "array([[0, 0, 0, 0],\n",
              "       [0, 0, 0, 0],\n",
              "       [0, 0, 0, 0]])"
            ]
          },
          "metadata": {},
          "execution_count": 46
        }
      ]
    },
    {
      "cell_type": "markdown",
      "source": [
        "## 16. dtype\n",
        "[1, 2, 3]을 np.int32 타입의 ndarray 배열로 생성하세요."
      ],
      "metadata": {
        "id": "pUQrdair1_rB"
      }
    },
    {
      "cell_type": "code",
      "source": [
        "np.ndarray([1,2,3],dtype=np.int32)"
      ],
      "metadata": {
        "colab": {
          "base_uri": "https://localhost:8080/"
        },
        "id": "BM0JWZQU5vUm",
        "outputId": "53bb627a-27fd-447d-b12f-ae1085a930fc"
      },
      "execution_count": 50,
      "outputs": [
        {
          "output_type": "execute_result",
          "data": {
            "text/plain": [
              "array([[[1, 0, 2],\n",
              "        [0, 3, 0]]], dtype=int32)"
            ]
          },
          "metadata": {},
          "execution_count": 50
        }
      ]
    },
    {
      "cell_type": "markdown",
      "source": [
        "## 17. dtype\n",
        "다음 배열의 데이터 타입을 확인해보세요.\n",
        "\n",
        "arr = np.array([1, 2, 3])"
      ],
      "metadata": {
        "id": "QzX-3lG_2C_n"
      }
    },
    {
      "cell_type": "code",
      "source": [
        "arr = np.array([1,2,3])\n",
        "arr.dtype"
      ],
      "metadata": {
        "colab": {
          "base_uri": "https://localhost:8080/"
        },
        "id": "sWxUcGH36OPu",
        "outputId": "5315368a-df7a-4f59-a630-814850f852ce"
      },
      "execution_count": 53,
      "outputs": [
        {
          "output_type": "execute_result",
          "data": {
            "text/plain": [
              "dtype('int64')"
            ]
          },
          "metadata": {},
          "execution_count": 53
        }
      ]
    },
    {
      "cell_type": "markdown",
      "source": [
        "## 18. dtype\n",
        "다음 배열의 데이터 타입을 확인해보세요.\n",
        "\n",
        "arr = np.array(['1', '2', '3'])"
      ],
      "metadata": {
        "id": "dj3ukx772I30"
      }
    },
    {
      "cell_type": "code",
      "source": [
        "arr = np.array(['1', '2', '3'])\n",
        "arr.dtype"
      ],
      "metadata": {
        "colab": {
          "base_uri": "https://localhost:8080/"
        },
        "id": "W0Tz4jmX6OoD",
        "outputId": "d3855f73-285a-493d-b93f-89ef12b40b65"
      },
      "execution_count": 55,
      "outputs": [
        {
          "output_type": "execute_result",
          "data": {
            "text/plain": [
              "dtype('<U1')"
            ]
          },
          "metadata": {},
          "execution_count": 55
        }
      ]
    },
    {
      "cell_type": "markdown",
      "source": [
        "`U1`은 1바이트 문자열이라는 의미이다. 참고로 1바이트는 8비트이다."
      ],
      "metadata": {
        "id": "wEXADj506g4h"
      }
    },
    {
      "cell_type": "markdown",
      "source": [
        "## 19. dtype\n",
        "다음 데이터를 np.int16 타입의 배열로 형변환하세요.\n",
        "\n",
        "arr = np.array([1, 2, 3])"
      ],
      "metadata": {
        "id": "XgeEyBHr2LmV"
      }
    },
    {
      "cell_type": "code",
      "source": [
        "arr = np.array([1, 2, 3])\n",
        "arr.astype(np.int16)"
      ],
      "metadata": {
        "colab": {
          "base_uri": "https://localhost:8080/"
        },
        "id": "9VubNX5i6PGy",
        "outputId": "0537efe2-b5f7-4c2c-9faa-5e1e7b9ee221"
      },
      "execution_count": 57,
      "outputs": [
        {
          "output_type": "execute_result",
          "data": {
            "text/plain": [
              "array([1, 2, 3], dtype=int16)"
            ]
          },
          "metadata": {},
          "execution_count": 57
        }
      ]
    },
    {
      "cell_type": "markdown",
      "source": [
        "## 20. 데이터 타입\n",
        "300이 44로 출력되는 이유를 설명하세요.\n",
        "\n",
        "> a = np.array( [ 255, 300, 128], dtype=np.uint8 )<br>\n",
        " a\n",
        "[255  44 128]"
      ],
      "metadata": {
        "id": "_CnIJ4Bb2N6n"
      }
    },
    {
      "cell_type": "markdown",
      "source": [
        "`uint8`은 부호 없는 8비트 정수를 표현한다. 즉 $2^8-1$범위의 수를 표현할 수 있기 때문에 300은 이 범위를 넘어서 잘못된 값이 출력된다."
      ],
      "metadata": {
        "id": "sZIWC13N7C7F"
      }
    }
  ]
}