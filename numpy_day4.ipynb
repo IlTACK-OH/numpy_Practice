{
  "nbformat": 4,
  "nbformat_minor": 0,
  "metadata": {
    "colab": {
      "provenance": [],
      "authorship_tag": "ABX9TyPtqIwe47dhqRAJgDiwdsd/",
      "include_colab_link": true
    },
    "kernelspec": {
      "name": "python3",
      "display_name": "Python 3"
    },
    "language_info": {
      "name": "python"
    }
  },
  "cells": [
    {
      "cell_type": "markdown",
      "metadata": {
        "id": "view-in-github",
        "colab_type": "text"
      },
      "source": [
        "<a href=\"https://colab.research.google.com/github/IlTACK-OH/numpy_Practice/blob/main/numpy_day4.ipynb\" target=\"_parent\"><img src=\"https://colab.research.google.com/assets/colab-badge.svg\" alt=\"Open In Colab\"/></a>"
      ]
    },
    {
      "cell_type": "markdown",
      "source": [
        "# 51. 모듈 임포트\n",
        "판다스의 시리즈 클래스를 사용하기 위해 주로 사용하는 두 가지 방식으로 임포트해보세요."
      ],
      "metadata": {
        "id": "OgSl3tBNffRn"
      }
    },
    {
      "cell_type": "code",
      "execution_count": 2,
      "metadata": {
        "id": "ytPSPIBzfcZX"
      },
      "outputs": [],
      "source": [
        "import pandas as pd\n",
        "from pandas import Series"
      ]
    },
    {
      "cell_type": "markdown",
      "source": [
        "# 52. 시리즈의 생성 (리스트)\n",
        "다음 데이터를 시리즈로 객체로 생성해보세요.\n",
        "\n",
        "|점수|\n",
        "|:---:|\n",
        "|100|\n",
        "|200|\n",
        "|300|\n"
      ],
      "metadata": {
        "id": "6tK7nIyzfv55"
      }
    },
    {
      "cell_type": "code",
      "source": [
        "data = [100,200,300]\n",
        "series_score = Series(data)\n",
        "series_score"
      ],
      "metadata": {
        "colab": {
          "base_uri": "https://localhost:8080/"
        },
        "id": "9Uj6FhOafroI",
        "outputId": "db3a4c8a-606d-4cef-c10f-f3fbfcdea25a"
      },
      "execution_count": 10,
      "outputs": [
        {
          "output_type": "execute_result",
          "data": {
            "text/plain": [
              "0    100\n",
              "1    200\n",
              "2    300\n",
              "dtype: int64"
            ]
          },
          "metadata": {},
          "execution_count": 10
        }
      ]
    },
    {
      "cell_type": "markdown",
      "source": [
        "# 53. 시리즈의 생성 (인덱스 지정)\n",
        "생성된 시리즈 객체에 인덱스를 추가해보세요.\n",
        "\n",
        "|인덱스|점수|\n",
        "|:---:|:---:|\n",
        "|철수|100|\n",
        "|영희|200|\n",
        "|아름|300|"
      ],
      "metadata": {
        "id": "5HWfpesxhAGa"
      }
    },
    {
      "cell_type": "code",
      "source": [
        "series_score_index = Series(data,index = ['철수','영희','아름'])\n",
        "series_score_index"
      ],
      "metadata": {
        "colab": {
          "base_uri": "https://localhost:8080/"
        },
        "id": "e67kmhejhR0r",
        "outputId": "d07bb302-976c-49d5-98bb-75d0d1eab359"
      },
      "execution_count": 12,
      "outputs": [
        {
          "output_type": "execute_result",
          "data": {
            "text/plain": [
              "철수    100\n",
              "영희    200\n",
              "아름    300\n",
              "dtype: int64"
            ]
          },
          "metadata": {},
          "execution_count": 12
        }
      ]
    },
    {
      "cell_type": "markdown",
      "source": [
        "# 54. 시리즈의 생성 (딕셔너리)\n",
        "다음 데이터를 파이썬 딕셔너리로 표현해보세요. 딕셔너리의 key로 인덱스를 value로 점수 컬럼을 지정하세요. 생성된 딕셔너리를 사용하여 시리즈 객체를 생성해봅시다.\n",
        "\n",
        "|인덱스|점수|\n",
        "|:---:|:---:|\n",
        "|철수|100|\n",
        "|영희|200|\n",
        "|아름|300|"
      ],
      "metadata": {
        "id": "rcItsr9jhfM0"
      }
    },
    {
      "cell_type": "code",
      "source": [
        "dic_data = {'철수':100,'영희':200,'아름':300}\n",
        "Series(dic_data)"
      ],
      "metadata": {
        "colab": {
          "base_uri": "https://localhost:8080/"
        },
        "id": "nqVncb5Thnaj",
        "outputId": "79d62e4d-fd66-4e4c-b085-409d64f08d3f"
      },
      "execution_count": 13,
      "outputs": [
        {
          "output_type": "execute_result",
          "data": {
            "text/plain": [
              "철수    100\n",
              "영희    200\n",
              "아름    300\n",
              "dtype: int64"
            ]
          },
          "metadata": {},
          "execution_count": 13
        }
      ]
    },
    {
      "cell_type": "markdown",
      "source": [
        "# 55. 시리즈 생성\n",
        "다음은 네이버 금융에서 특정 거래일의 인기 종목과 해당 종목의 종가 데이터입니다. 종목명을 인덱스로 하여 종가를 데이터로 지정하여 시리즈 객체를 생성해봅시다.\n",
        "\n",
        "|종목명|종가|\n",
        "|:---:|:---:|\n",
        "|삼성전자|73000|\n",
        "|셀트리온|356000|\n",
        "|카카오|367000|\n",
        "|삼성전자우|68600|\n",
        "|현대바이오|34150|"
      ],
      "metadata": {
        "id": "O4ijrOQ2h70a"
      }
    },
    {
      "cell_type": "code",
      "source": [
        "dic_data2 = {\n",
        "    '삼성전자':73000,\n",
        "    '셀트리온':356000,\n",
        "    '카카오':36700,\n",
        "    '삼성전자우':68600,\n",
        "    '현대바이오':34150\n",
        "}\n",
        "\n",
        "Series(dic_data2)"
      ],
      "metadata": {
        "colab": {
          "base_uri": "https://localhost:8080/"
        },
        "id": "1rmPnOWAiR-_",
        "outputId": "d475b765-d112-4700-9732-1b605c689004"
      },
      "execution_count": 14,
      "outputs": [
        {
          "output_type": "execute_result",
          "data": {
            "text/plain": [
              "삼성전자      73000\n",
              "셀트리온     356000\n",
              "카카오       36700\n",
              "삼성전자우     68600\n",
              "현대바이오     34150\n",
              "dtype: int64"
            ]
          },
          "metadata": {},
          "execution_count": 14
        }
      ]
    },
    {
      "cell_type": "markdown",
      "source": [
        "# 56. 시리즈 인덱스\n",
        "시리즈에 저장된 인덱스만을 출력해보세요."
      ],
      "metadata": {
        "id": "90tBI-4din7P"
      }
    },
    {
      "cell_type": "code",
      "source": [
        "data = [100, 200, 300]\n",
        "index = [\"철수\", \"영희\", \"아름\"]\n",
        "s = Series(data, index)"
      ],
      "metadata": {
        "id": "JPtI2yCdit54"
      },
      "execution_count": 15,
      "outputs": []
    },
    {
      "cell_type": "code",
      "source": [
        "s.index"
      ],
      "metadata": {
        "colab": {
          "base_uri": "https://localhost:8080/"
        },
        "id": "ysZrIiJ4iu8c",
        "outputId": "ec14775c-3269-4f44-d959-97b310fcf705"
      },
      "execution_count": 18,
      "outputs": [
        {
          "output_type": "execute_result",
          "data": {
            "text/plain": [
              "Index(['철수', '영희', '아름'], dtype='object')"
            ]
          },
          "metadata": {},
          "execution_count": 18
        }
      ]
    },
    {
      "cell_type": "markdown",
      "source": [
        "# 57. 시리즈 데이터\n",
        "인덱스 없이 시리즈에 저장된 데이터만을 출력해보세요."
      ],
      "metadata": {
        "id": "wo3wxti4i0Bg"
      }
    },
    {
      "cell_type": "code",
      "source": [
        "data = [100, 200, 300]\n",
        "index = [\"철수\", \"영희\", \"아름\"]\n",
        "s = Series(data, index)"
      ],
      "metadata": {
        "id": "alo1R_LXi2sV"
      },
      "execution_count": 19,
      "outputs": []
    },
    {
      "cell_type": "code",
      "source": [
        "s.values"
      ],
      "metadata": {
        "colab": {
          "base_uri": "https://localhost:8080/"
        },
        "id": "sLR7ooJhi6bU",
        "outputId": "27eb55d4-c8a3-49f2-9ffb-283a8a2b980e"
      },
      "execution_count": 22,
      "outputs": [
        {
          "output_type": "execute_result",
          "data": {
            "text/plain": [
              "array([100, 200, 300])"
            ]
          },
          "metadata": {},
          "execution_count": 22
        }
      ]
    },
    {
      "cell_type": "markdown",
      "source": [
        "# 58. 시리즈와 딕셔너리\n",
        "시리즈를 딕셔너리로 변경해 보세요."
      ],
      "metadata": {
        "id": "dnuW7CtFjB7a"
      }
    },
    {
      "cell_type": "code",
      "source": [
        "data = [100, 200, 300]\n",
        "index = [\"철수\", \"영희\", \"아름\"]\n",
        "s = Series(data, index)"
      ],
      "metadata": {
        "id": "rDBE7fU5jEev"
      },
      "execution_count": 23,
      "outputs": []
    },
    {
      "cell_type": "code",
      "source": [
        "s.to_dict()"
      ],
      "metadata": {
        "colab": {
          "base_uri": "https://localhost:8080/"
        },
        "id": "Rp3HH-7hjHKR",
        "outputId": "c94f6f43-b105-4747-cee6-97fade6268cf"
      },
      "execution_count": 26,
      "outputs": [
        {
          "output_type": "execute_result",
          "data": {
            "text/plain": [
              "{'철수': 100, '영희': 200, '아름': 300}"
            ]
          },
          "metadata": {},
          "execution_count": 26
        }
      ]
    },
    {
      "cell_type": "markdown",
      "source": [
        "# 59. 시리즈와 엑셀\n",
        "시리즈를 엑셀 파일(`data.xlsx`)에 저장해 보세요."
      ],
      "metadata": {
        "id": "RWv-4k6ljQbm"
      }
    },
    {
      "cell_type": "code",
      "source": [
        "data = [100, 200, 300]\n",
        "index = [\"철수\", \"영희\", \"아름\"]\n",
        "s = Series(data, index)"
      ],
      "metadata": {
        "id": "7ljf8dwujVDa"
      },
      "execution_count": 27,
      "outputs": []
    },
    {
      "cell_type": "code",
      "source": [
        "s.to_excel('data.xlsx')\n",
        "s.to_excel('data2.xlsx',header = False)"
      ],
      "metadata": {
        "id": "BkzibiRGjZsN"
      },
      "execution_count": 31,
      "outputs": []
    },
    {
      "cell_type": "markdown",
      "source": [
        "**data.xlsx**\n",
        "\n",
        "![image.png](data:image/png;base64,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)"
      ],
      "metadata": {
        "id": "5_OA5riUkR3d"
      }
    },
    {
      "cell_type": "markdown",
      "source": [
        "**data2.xlsx**<br>\n",
        "header=False로 설정하면 다음과 같이 저장된다.<br>![image.png](data:image/png;base64,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)"
      ],
      "metadata": {
        "id": "GJ144K2ikZg6"
      }
    },
    {
      "cell_type": "markdown",
      "source": [
        "# 60. 시리즈와 엑셀\n",
        "엑셀 파일(`data.xlsx`)을 읽어 오세요."
      ],
      "metadata": {
        "id": "PypLirHIkl9n"
      }
    },
    {
      "cell_type": "code",
      "source": [
        "df1 = pd.read_excel('data.xlsx')\n",
        "df1"
      ],
      "metadata": {
        "colab": {
          "base_uri": "https://localhost:8080/",
          "height": 143
        },
        "id": "aJ3rFP2Hk0sc",
        "outputId": "97cdc427-23ad-4dfb-f20e-8fb547b43eec"
      },
      "execution_count": 35,
      "outputs": [
        {
          "output_type": "execute_result",
          "data": {
            "text/plain": [
              "  Unnamed: 0    0\n",
              "0         철수  100\n",
              "1         영희  200\n",
              "2         아름  300"
            ],
            "text/html": [
              "\n",
              "  <div id=\"df-99bbc7c5-3c44-4fc1-9ccf-783f23eef746\">\n",
              "    <div class=\"colab-df-container\">\n",
              "      <div>\n",
              "<style scoped>\n",
              "    .dataframe tbody tr th:only-of-type {\n",
              "        vertical-align: middle;\n",
              "    }\n",
              "\n",
              "    .dataframe tbody tr th {\n",
              "        vertical-align: top;\n",
              "    }\n",
              "\n",
              "    .dataframe thead th {\n",
              "        text-align: right;\n",
              "    }\n",
              "</style>\n",
              "<table border=\"1\" class=\"dataframe\">\n",
              "  <thead>\n",
              "    <tr style=\"text-align: right;\">\n",
              "      <th></th>\n",
              "      <th>Unnamed: 0</th>\n",
              "      <th>0</th>\n",
              "    </tr>\n",
              "  </thead>\n",
              "  <tbody>\n",
              "    <tr>\n",
              "      <th>0</th>\n",
              "      <td>철수</td>\n",
              "      <td>100</td>\n",
              "    </tr>\n",
              "    <tr>\n",
              "      <th>1</th>\n",
              "      <td>영희</td>\n",
              "      <td>200</td>\n",
              "    </tr>\n",
              "    <tr>\n",
              "      <th>2</th>\n",
              "      <td>아름</td>\n",
              "      <td>300</td>\n",
              "    </tr>\n",
              "  </tbody>\n",
              "</table>\n",
              "</div>\n",
              "      <button class=\"colab-df-convert\" onclick=\"convertToInteractive('df-99bbc7c5-3c44-4fc1-9ccf-783f23eef746')\"\n",
              "              title=\"Convert this dataframe to an interactive table.\"\n",
              "              style=\"display:none;\">\n",
              "        \n",
              "  <svg xmlns=\"http://www.w3.org/2000/svg\" height=\"24px\"viewBox=\"0 0 24 24\"\n",
              "       width=\"24px\">\n",
              "    <path d=\"M0 0h24v24H0V0z\" fill=\"none\"/>\n",
              "    <path d=\"M18.56 5.44l.94 2.06.94-2.06 2.06-.94-2.06-.94-.94-2.06-.94 2.06-2.06.94zm-11 1L8.5 8.5l.94-2.06 2.06-.94-2.06-.94L8.5 2.5l-.94 2.06-2.06.94zm10 10l.94 2.06.94-2.06 2.06-.94-2.06-.94-.94-2.06-.94 2.06-2.06.94z\"/><path d=\"M17.41 7.96l-1.37-1.37c-.4-.4-.92-.59-1.43-.59-.52 0-1.04.2-1.43.59L10.3 9.45l-7.72 7.72c-.78.78-.78 2.05 0 2.83L4 21.41c.39.39.9.59 1.41.59.51 0 1.02-.2 1.41-.59l7.78-7.78 2.81-2.81c.8-.78.8-2.07 0-2.86zM5.41 20L4 18.59l7.72-7.72 1.47 1.35L5.41 20z\"/>\n",
              "  </svg>\n",
              "      </button>\n",
              "      \n",
              "  <style>\n",
              "    .colab-df-container {\n",
              "      display:flex;\n",
              "      flex-wrap:wrap;\n",
              "      gap: 12px;\n",
              "    }\n",
              "\n",
              "    .colab-df-convert {\n",
              "      background-color: #E8F0FE;\n",
              "      border: none;\n",
              "      border-radius: 50%;\n",
              "      cursor: pointer;\n",
              "      display: none;\n",
              "      fill: #1967D2;\n",
              "      height: 32px;\n",
              "      padding: 0 0 0 0;\n",
              "      width: 32px;\n",
              "    }\n",
              "\n",
              "    .colab-df-convert:hover {\n",
              "      background-color: #E2EBFA;\n",
              "      box-shadow: 0px 1px 2px rgba(60, 64, 67, 0.3), 0px 1px 3px 1px rgba(60, 64, 67, 0.15);\n",
              "      fill: #174EA6;\n",
              "    }\n",
              "\n",
              "    [theme=dark] .colab-df-convert {\n",
              "      background-color: #3B4455;\n",
              "      fill: #D2E3FC;\n",
              "    }\n",
              "\n",
              "    [theme=dark] .colab-df-convert:hover {\n",
              "      background-color: #434B5C;\n",
              "      box-shadow: 0px 1px 3px 1px rgba(0, 0, 0, 0.15);\n",
              "      filter: drop-shadow(0px 1px 2px rgba(0, 0, 0, 0.3));\n",
              "      fill: #FFFFFF;\n",
              "    }\n",
              "  </style>\n",
              "\n",
              "      <script>\n",
              "        const buttonEl =\n",
              "          document.querySelector('#df-99bbc7c5-3c44-4fc1-9ccf-783f23eef746 button.colab-df-convert');\n",
              "        buttonEl.style.display =\n",
              "          google.colab.kernel.accessAllowed ? 'block' : 'none';\n",
              "\n",
              "        async function convertToInteractive(key) {\n",
              "          const element = document.querySelector('#df-99bbc7c5-3c44-4fc1-9ccf-783f23eef746');\n",
              "          const dataTable =\n",
              "            await google.colab.kernel.invokeFunction('convertToInteractive',\n",
              "                                                     [key], {});\n",
              "          if (!dataTable) return;\n",
              "\n",
              "          const docLinkHtml = 'Like what you see? Visit the ' +\n",
              "            '<a target=\"_blank\" href=https://colab.research.google.com/notebooks/data_table.ipynb>data table notebook</a>'\n",
              "            + ' to learn more about interactive tables.';\n",
              "          element.innerHTML = '';\n",
              "          dataTable['output_type'] = 'display_data';\n",
              "          await google.colab.output.renderOutput(dataTable, element);\n",
              "          const docLink = document.createElement('div');\n",
              "          docLink.innerHTML = docLinkHtml;\n",
              "          element.appendChild(docLink);\n",
              "        }\n",
              "      </script>\n",
              "    </div>\n",
              "  </div>\n",
              "  "
            ]
          },
          "metadata": {},
          "execution_count": 35
        }
      ]
    },
    {
      "cell_type": "code",
      "source": [
        "df1.rename(columns = {'Unnamed: 0':'name',\n",
        "                      0:'Score'})"
      ],
      "metadata": {
        "colab": {
          "base_uri": "https://localhost:8080/",
          "height": 143
        },
        "id": "rMGUVNtklDIE",
        "outputId": "971fae7b-fde5-482c-9f9d-aaf52f4b8a36"
      },
      "execution_count": 41,
      "outputs": [
        {
          "output_type": "execute_result",
          "data": {
            "text/plain": [
              "  name  Score\n",
              "0   철수    100\n",
              "1   영희    200\n",
              "2   아름    300"
            ],
            "text/html": [
              "\n",
              "  <div id=\"df-9caec9d0-9c05-4a65-bf89-3f5d99121fbc\">\n",
              "    <div class=\"colab-df-container\">\n",
              "      <div>\n",
              "<style scoped>\n",
              "    .dataframe tbody tr th:only-of-type {\n",
              "        vertical-align: middle;\n",
              "    }\n",
              "\n",
              "    .dataframe tbody tr th {\n",
              "        vertical-align: top;\n",
              "    }\n",
              "\n",
              "    .dataframe thead th {\n",
              "        text-align: right;\n",
              "    }\n",
              "</style>\n",
              "<table border=\"1\" class=\"dataframe\">\n",
              "  <thead>\n",
              "    <tr style=\"text-align: right;\">\n",
              "      <th></th>\n",
              "      <th>name</th>\n",
              "      <th>Score</th>\n",
              "    </tr>\n",
              "  </thead>\n",
              "  <tbody>\n",
              "    <tr>\n",
              "      <th>0</th>\n",
              "      <td>철수</td>\n",
              "      <td>100</td>\n",
              "    </tr>\n",
              "    <tr>\n",
              "      <th>1</th>\n",
              "      <td>영희</td>\n",
              "      <td>200</td>\n",
              "    </tr>\n",
              "    <tr>\n",
              "      <th>2</th>\n",
              "      <td>아름</td>\n",
              "      <td>300</td>\n",
              "    </tr>\n",
              "  </tbody>\n",
              "</table>\n",
              "</div>\n",
              "      <button class=\"colab-df-convert\" onclick=\"convertToInteractive('df-9caec9d0-9c05-4a65-bf89-3f5d99121fbc')\"\n",
              "              title=\"Convert this dataframe to an interactive table.\"\n",
              "              style=\"display:none;\">\n",
              "        \n",
              "  <svg xmlns=\"http://www.w3.org/2000/svg\" height=\"24px\"viewBox=\"0 0 24 24\"\n",
              "       width=\"24px\">\n",
              "    <path d=\"M0 0h24v24H0V0z\" fill=\"none\"/>\n",
              "    <path d=\"M18.56 5.44l.94 2.06.94-2.06 2.06-.94-2.06-.94-.94-2.06-.94 2.06-2.06.94zm-11 1L8.5 8.5l.94-2.06 2.06-.94-2.06-.94L8.5 2.5l-.94 2.06-2.06.94zm10 10l.94 2.06.94-2.06 2.06-.94-2.06-.94-.94-2.06-.94 2.06-2.06.94z\"/><path d=\"M17.41 7.96l-1.37-1.37c-.4-.4-.92-.59-1.43-.59-.52 0-1.04.2-1.43.59L10.3 9.45l-7.72 7.72c-.78.78-.78 2.05 0 2.83L4 21.41c.39.39.9.59 1.41.59.51 0 1.02-.2 1.41-.59l7.78-7.78 2.81-2.81c.8-.78.8-2.07 0-2.86zM5.41 20L4 18.59l7.72-7.72 1.47 1.35L5.41 20z\"/>\n",
              "  </svg>\n",
              "      </button>\n",
              "      \n",
              "  <style>\n",
              "    .colab-df-container {\n",
              "      display:flex;\n",
              "      flex-wrap:wrap;\n",
              "      gap: 12px;\n",
              "    }\n",
              "\n",
              "    .colab-df-convert {\n",
              "      background-color: #E8F0FE;\n",
              "      border: none;\n",
              "      border-radius: 50%;\n",
              "      cursor: pointer;\n",
              "      display: none;\n",
              "      fill: #1967D2;\n",
              "      height: 32px;\n",
              "      padding: 0 0 0 0;\n",
              "      width: 32px;\n",
              "    }\n",
              "\n",
              "    .colab-df-convert:hover {\n",
              "      background-color: #E2EBFA;\n",
              "      box-shadow: 0px 1px 2px rgba(60, 64, 67, 0.3), 0px 1px 3px 1px rgba(60, 64, 67, 0.15);\n",
              "      fill: #174EA6;\n",
              "    }\n",
              "\n",
              "    [theme=dark] .colab-df-convert {\n",
              "      background-color: #3B4455;\n",
              "      fill: #D2E3FC;\n",
              "    }\n",
              "\n",
              "    [theme=dark] .colab-df-convert:hover {\n",
              "      background-color: #434B5C;\n",
              "      box-shadow: 0px 1px 3px 1px rgba(0, 0, 0, 0.15);\n",
              "      filter: drop-shadow(0px 1px 2px rgba(0, 0, 0, 0.3));\n",
              "      fill: #FFFFFF;\n",
              "    }\n",
              "  </style>\n",
              "\n",
              "      <script>\n",
              "        const buttonEl =\n",
              "          document.querySelector('#df-9caec9d0-9c05-4a65-bf89-3f5d99121fbc button.colab-df-convert');\n",
              "        buttonEl.style.display =\n",
              "          google.colab.kernel.accessAllowed ? 'block' : 'none';\n",
              "\n",
              "        async function convertToInteractive(key) {\n",
              "          const element = document.querySelector('#df-9caec9d0-9c05-4a65-bf89-3f5d99121fbc');\n",
              "          const dataTable =\n",
              "            await google.colab.kernel.invokeFunction('convertToInteractive',\n",
              "                                                     [key], {});\n",
              "          if (!dataTable) return;\n",
              "\n",
              "          const docLinkHtml = 'Like what you see? Visit the ' +\n",
              "            '<a target=\"_blank\" href=https://colab.research.google.com/notebooks/data_table.ipynb>data table notebook</a>'\n",
              "            + ' to learn more about interactive tables.';\n",
              "          element.innerHTML = '';\n",
              "          dataTable['output_type'] = 'display_data';\n",
              "          await google.colab.output.renderOutput(dataTable, element);\n",
              "          const docLink = document.createElement('div');\n",
              "          docLink.innerHTML = docLinkHtml;\n",
              "          element.appendChild(docLink);\n",
              "        }\n",
              "      </script>\n",
              "    </div>\n",
              "  </div>\n",
              "  "
            ]
          },
          "metadata": {},
          "execution_count": 41
        }
      ]
    },
    {
      "cell_type": "code",
      "source": [
        "pd.read_excel('data2.xlsx')"
      ],
      "metadata": {
        "colab": {
          "base_uri": "https://localhost:8080/",
          "height": 112
        },
        "id": "ilhgCn79kisg",
        "outputId": "924e9a94-0814-43c2-a6f7-1a3c4d6f9190"
      },
      "execution_count": 33,
      "outputs": [
        {
          "output_type": "execute_result",
          "data": {
            "text/plain": [
              "   철수  100\n",
              "0  영희  200\n",
              "1  아름  300"
            ],
            "text/html": [
              "\n",
              "  <div id=\"df-50d26e44-96df-4b0b-b4e0-8034c3d378b9\">\n",
              "    <div class=\"colab-df-container\">\n",
              "      <div>\n",
              "<style scoped>\n",
              "    .dataframe tbody tr th:only-of-type {\n",
              "        vertical-align: middle;\n",
              "    }\n",
              "\n",
              "    .dataframe tbody tr th {\n",
              "        vertical-align: top;\n",
              "    }\n",
              "\n",
              "    .dataframe thead th {\n",
              "        text-align: right;\n",
              "    }\n",
              "</style>\n",
              "<table border=\"1\" class=\"dataframe\">\n",
              "  <thead>\n",
              "    <tr style=\"text-align: right;\">\n",
              "      <th></th>\n",
              "      <th>철수</th>\n",
              "      <th>100</th>\n",
              "    </tr>\n",
              "  </thead>\n",
              "  <tbody>\n",
              "    <tr>\n",
              "      <th>0</th>\n",
              "      <td>영희</td>\n",
              "      <td>200</td>\n",
              "    </tr>\n",
              "    <tr>\n",
              "      <th>1</th>\n",
              "      <td>아름</td>\n",
              "      <td>300</td>\n",
              "    </tr>\n",
              "  </tbody>\n",
              "</table>\n",
              "</div>\n",
              "      <button class=\"colab-df-convert\" onclick=\"convertToInteractive('df-50d26e44-96df-4b0b-b4e0-8034c3d378b9')\"\n",
              "              title=\"Convert this dataframe to an interactive table.\"\n",
              "              style=\"display:none;\">\n",
              "        \n",
              "  <svg xmlns=\"http://www.w3.org/2000/svg\" height=\"24px\"viewBox=\"0 0 24 24\"\n",
              "       width=\"24px\">\n",
              "    <path d=\"M0 0h24v24H0V0z\" fill=\"none\"/>\n",
              "    <path d=\"M18.56 5.44l.94 2.06.94-2.06 2.06-.94-2.06-.94-.94-2.06-.94 2.06-2.06.94zm-11 1L8.5 8.5l.94-2.06 2.06-.94-2.06-.94L8.5 2.5l-.94 2.06-2.06.94zm10 10l.94 2.06.94-2.06 2.06-.94-2.06-.94-.94-2.06-.94 2.06-2.06.94z\"/><path d=\"M17.41 7.96l-1.37-1.37c-.4-.4-.92-.59-1.43-.59-.52 0-1.04.2-1.43.59L10.3 9.45l-7.72 7.72c-.78.78-.78 2.05 0 2.83L4 21.41c.39.39.9.59 1.41.59.51 0 1.02-.2 1.41-.59l7.78-7.78 2.81-2.81c.8-.78.8-2.07 0-2.86zM5.41 20L4 18.59l7.72-7.72 1.47 1.35L5.41 20z\"/>\n",
              "  </svg>\n",
              "      </button>\n",
              "      \n",
              "  <style>\n",
              "    .colab-df-container {\n",
              "      display:flex;\n",
              "      flex-wrap:wrap;\n",
              "      gap: 12px;\n",
              "    }\n",
              "\n",
              "    .colab-df-convert {\n",
              "      background-color: #E8F0FE;\n",
              "      border: none;\n",
              "      border-radius: 50%;\n",
              "      cursor: pointer;\n",
              "      display: none;\n",
              "      fill: #1967D2;\n",
              "      height: 32px;\n",
              "      padding: 0 0 0 0;\n",
              "      width: 32px;\n",
              "    }\n",
              "\n",
              "    .colab-df-convert:hover {\n",
              "      background-color: #E2EBFA;\n",
              "      box-shadow: 0px 1px 2px rgba(60, 64, 67, 0.3), 0px 1px 3px 1px rgba(60, 64, 67, 0.15);\n",
              "      fill: #174EA6;\n",
              "    }\n",
              "\n",
              "    [theme=dark] .colab-df-convert {\n",
              "      background-color: #3B4455;\n",
              "      fill: #D2E3FC;\n",
              "    }\n",
              "\n",
              "    [theme=dark] .colab-df-convert:hover {\n",
              "      background-color: #434B5C;\n",
              "      box-shadow: 0px 1px 3px 1px rgba(0, 0, 0, 0.15);\n",
              "      filter: drop-shadow(0px 1px 2px rgba(0, 0, 0, 0.3));\n",
              "      fill: #FFFFFF;\n",
              "    }\n",
              "  </style>\n",
              "\n",
              "      <script>\n",
              "        const buttonEl =\n",
              "          document.querySelector('#df-50d26e44-96df-4b0b-b4e0-8034c3d378b9 button.colab-df-convert');\n",
              "        buttonEl.style.display =\n",
              "          google.colab.kernel.accessAllowed ? 'block' : 'none';\n",
              "\n",
              "        async function convertToInteractive(key) {\n",
              "          const element = document.querySelector('#df-50d26e44-96df-4b0b-b4e0-8034c3d378b9');\n",
              "          const dataTable =\n",
              "            await google.colab.kernel.invokeFunction('convertToInteractive',\n",
              "                                                     [key], {});\n",
              "          if (!dataTable) return;\n",
              "\n",
              "          const docLinkHtml = 'Like what you see? Visit the ' +\n",
              "            '<a target=\"_blank\" href=https://colab.research.google.com/notebooks/data_table.ipynb>data table notebook</a>'\n",
              "            + ' to learn more about interactive tables.';\n",
              "          element.innerHTML = '';\n",
              "          dataTable['output_type'] = 'display_data';\n",
              "          await google.colab.output.renderOutput(dataTable, element);\n",
              "          const docLink = document.createElement('div');\n",
              "          docLink.innerHTML = docLinkHtml;\n",
              "          element.appendChild(docLink);\n",
              "        }\n",
              "      </script>\n",
              "    </div>\n",
              "  </div>\n",
              "  "
            ]
          },
          "metadata": {},
          "execution_count": 33
        }
      ]
    },
    {
      "cell_type": "markdown",
      "source": [
        "# 61. 시리즈 데이터 타입\n",
        "시리즈의 데이터 타입을 출력해보세요."
      ],
      "metadata": {
        "id": "lu23iOaRmSRT"
      }
    },
    {
      "cell_type": "code",
      "source": [
        "data = [100, 200, 300]\n",
        "index = [\"철수\", \"영희\", \"아름\"]\n",
        "s = Series(data, index)"
      ],
      "metadata": {
        "id": "DvUo0pTamUkH"
      },
      "execution_count": 42,
      "outputs": []
    },
    {
      "cell_type": "code",
      "source": [
        "s.dtype"
      ],
      "metadata": {
        "colab": {
          "base_uri": "https://localhost:8080/"
        },
        "id": "-S8OIAjrmWS1",
        "outputId": "cbd1d182-88b6-4802-b838-6295af689fc4"
      },
      "execution_count": 43,
      "outputs": [
        {
          "output_type": "execute_result",
          "data": {
            "text/plain": [
              "dtype('int64')"
            ]
          },
          "metadata": {},
          "execution_count": 43
        }
      ]
    },
    {
      "cell_type": "markdown",
      "source": [
        "# 62. 시리즈 데이터\n",
        "다음 시리즈의 데이터 타입은 무엇일까요?"
      ],
      "metadata": {
        "id": "wPdIbWeVmdop"
      }
    },
    {
      "cell_type": "code",
      "source": [
        "data = [  10,  \"가\" ]\n",
        "s = Series( data )"
      ],
      "metadata": {
        "id": "Tchu3qpnmfbQ"
      },
      "execution_count": 44,
      "outputs": []
    },
    {
      "cell_type": "code",
      "source": [
        "s.dtype"
      ],
      "metadata": {
        "colab": {
          "base_uri": "https://localhost:8080/"
        },
        "id": "AX61d8TQmgu0",
        "outputId": "9185a89a-e5a7-4be7-ed12-dc5026a32467"
      },
      "execution_count": 45,
      "outputs": [
        {
          "output_type": "execute_result",
          "data": {
            "text/plain": [
              "dtype('O')"
            ]
          },
          "metadata": {},
          "execution_count": 45
        }
      ]
    },
    {
      "cell_type": "markdown",
      "source": [
        "Object이다. 하나의 시리즈에는 하나의 데이터 타입만을 저장해야 한다."
      ],
      "metadata": {
        "id": "VUHlXXmwmkc_"
      }
    },
    {
      "cell_type": "markdown",
      "source": [
        "# 63. 시리즈 인덱스의 데이터 타입\n",
        "시리즈에서 인덱스의 데이터 타입을 출력해보세요."
      ],
      "metadata": {
        "id": "siH9to2Empo0"
      }
    },
    {
      "cell_type": "code",
      "source": [
        "data = [100, 200, 300]\n",
        "index = [\"철수\", \"영희\", \"아름\"]\n",
        "s = Series(data, index)"
      ],
      "metadata": {
        "id": "Gi5UsbMXmrwe"
      },
      "execution_count": 46,
      "outputs": []
    },
    {
      "cell_type": "code",
      "source": [
        "s.index.dtype"
      ],
      "metadata": {
        "colab": {
          "base_uri": "https://localhost:8080/"
        },
        "id": "ACAOpZ4xmuAa",
        "outputId": "4c931f46-6b53-4dc4-c3d4-7d73a3630871"
      },
      "execution_count": 48,
      "outputs": [
        {
          "output_type": "execute_result",
          "data": {
            "text/plain": [
              "dtype('O')"
            ]
          },
          "metadata": {},
          "execution_count": 48
        }
      ]
    },
    {
      "cell_type": "markdown",
      "source": [
        "# 64. 시리즈 이름과 인덱스 이름\n",
        "다음은 삼성전자의 종가 데이터입니다. 이를 시리즈 객체로 생성한 후 시리즈의 name 속성에 '종가'를 인덱스의 name 속성에 날짜를 설정해보세요.\n",
        "\n",
        "|날짜|종가|\n",
        "|:---:|:---:|\n",
        "|2020-12-11|73400|\n",
        "|2020-12-10|72900|\n",
        "|2020-12-09|73900|\n",
        "|2020-12-08|71700|\n",
        "|2020-12-07|72900|\n"
      ],
      "metadata": {
        "id": "8PGNgswMm1Fj"
      }
    },
    {
      "cell_type": "code",
      "source": [
        "data = {\n",
        "    '2020-12-11':73400,\n",
        "    '2020-12-10':72900,\n",
        "    '2020-12-09':73900,\n",
        "    '2020-12-08':71700,\n",
        "    '2020-12-07':72900\n",
        "}\n",
        "s = pd.Series(data)\n",
        "s.name='종가'\n",
        "s.index.name='날짜'\n",
        "s"
      ],
      "metadata": {
        "colab": {
          "base_uri": "https://localhost:8080/"
        },
        "id": "N1NYKeX6nMHc",
        "outputId": "2b98d1c8-f6e6-4680-9359-ec2f0c93290f"
      },
      "execution_count": 53,
      "outputs": [
        {
          "output_type": "execute_result",
          "data": {
            "text/plain": [
              "날짜\n",
              "2020-12-11    73400\n",
              "2020-12-10    72900\n",
              "2020-12-09    73900\n",
              "2020-12-08    71700\n",
              "2020-12-07    72900\n",
              "Name: 종가, dtype: int64"
            ]
          },
          "metadata": {},
          "execution_count": 53
        }
      ]
    },
    {
      "cell_type": "markdown",
      "source": [
        "# 65. to_dict\n",
        "시리즈의 데이터 타입을 딕셔너리로 변환하세요."
      ],
      "metadata": {
        "id": "36VdA4aqofV9"
      }
    },
    {
      "cell_type": "code",
      "source": [
        "data = {\"apple\": 1500, \"banana\": 3000}\n",
        "s = pd.Series(data)\n",
        "s"
      ],
      "metadata": {
        "colab": {
          "base_uri": "https://localhost:8080/"
        },
        "id": "LXCE0ifeohv6",
        "outputId": "7fe6e4cd-6d0d-4d35-e695-c8e05f42a4e6"
      },
      "execution_count": 54,
      "outputs": [
        {
          "output_type": "execute_result",
          "data": {
            "text/plain": [
              "apple     1500\n",
              "banana    3000\n",
              "dtype: int64"
            ]
          },
          "metadata": {},
          "execution_count": 54
        }
      ]
    },
    {
      "cell_type": "code",
      "source": [
        "s.to_dict()"
      ],
      "metadata": {
        "colab": {
          "base_uri": "https://localhost:8080/"
        },
        "id": "PBZSpREholBL",
        "outputId": "9324bde5-d48f-4c1a-9e64-aaba00101920"
      },
      "execution_count": 56,
      "outputs": [
        {
          "output_type": "execute_result",
          "data": {
            "text/plain": [
              "{'apple': 1500, 'banana': 3000}"
            ]
          },
          "metadata": {},
          "execution_count": 56
        }
      ]
    },
    {
      "cell_type": "markdown",
      "source": [
        "# 66. 인덱스 이름\n",
        "다음 시리즈의 인덱스의 이름을 'icecream'으로 변경하세요."
      ],
      "metadata": {
        "id": "9BtR6yGZoozf"
      }
    },
    {
      "cell_type": "code",
      "source": [
        "data = {\"apple\": 1500, \"banana\": 3000}\n",
        "s = pd.Series(data)\n",
        "s"
      ],
      "metadata": {
        "colab": {
          "base_uri": "https://localhost:8080/"
        },
        "id": "MeJcnEgjorRx",
        "outputId": "ba379885-8699-4b31-8bbe-28cb3acca363"
      },
      "execution_count": 57,
      "outputs": [
        {
          "output_type": "execute_result",
          "data": {
            "text/plain": [
              "apple     1500\n",
              "banana    3000\n",
              "dtype: int64"
            ]
          },
          "metadata": {},
          "execution_count": 57
        }
      ]
    },
    {
      "cell_type": "code",
      "source": [
        "s.index.name = 'icecream'\n",
        "s"
      ],
      "metadata": {
        "colab": {
          "base_uri": "https://localhost:8080/"
        },
        "id": "8QA5Ob6Uott1",
        "outputId": "3385b460-cea2-4d09-85f7-546242adfe0e"
      },
      "execution_count": 59,
      "outputs": [
        {
          "output_type": "execute_result",
          "data": {
            "text/plain": [
              "icecream\n",
              "apple     1500\n",
              "banana    3000\n",
              "dtype: int64"
            ]
          },
          "metadata": {},
          "execution_count": 59
        }
      ]
    },
    {
      "cell_type": "markdown",
      "source": [
        "# 67. 시리즈 이름\n",
        "다음 시리즈 객체의 이름을 'number'로 지정하세요."
      ],
      "metadata": {
        "id": "k1Dpo0Eco1Lt"
      }
    },
    {
      "cell_type": "code",
      "source": [
        "s = pd.Series(data=[1, 2, 3])\n",
        "s.name = 'number'\n",
        "s"
      ],
      "metadata": {
        "colab": {
          "base_uri": "https://localhost:8080/"
        },
        "id": "wkoIKZXko4__",
        "outputId": "78235aab-1a24-445a-9c2c-f8b4d63942c5"
      },
      "execution_count": 61,
      "outputs": [
        {
          "output_type": "execute_result",
          "data": {
            "text/plain": [
              "0    1\n",
              "1    2\n",
              "2    3\n",
              "Name: number, dtype: int64"
            ]
          },
          "metadata": {},
          "execution_count": 61
        }
      ]
    },
    {
      "cell_type": "markdown",
      "source": [
        "# 68. NaN\n",
        "다음 시리즈 객체를 생성하세요."
      ],
      "metadata": {
        "id": "TDcAN2-4pFfc"
      }
    },
    {
      "cell_type": "code",
      "source": [
        "import numpy as np\n",
        "data = [1.0,2.0, np.NaN]\n",
        "s = pd.Series(data)\n",
        "s"
      ],
      "metadata": {
        "colab": {
          "base_uri": "https://localhost:8080/"
        },
        "id": "zB8HiyGwpIOB",
        "outputId": "737c0198-04ee-4241-e70a-d9566636f0d4"
      },
      "execution_count": 67,
      "outputs": [
        {
          "output_type": "execute_result",
          "data": {
            "text/plain": [
              "0    1.0\n",
              "1    2.0\n",
              "2    NaN\n",
              "dtype: float64"
            ]
          },
          "metadata": {},
          "execution_count": 67
        }
      ]
    },
    {
      "cell_type": "markdown",
      "source": [
        "# 69. Index.to_numpy\n",
        "다음 시리즈 객체의 인덱스를 넘파이 배열로 변경하세요."
      ],
      "metadata": {
        "id": "vjB9SVbZpdjv"
      }
    },
    {
      "cell_type": "code",
      "source": [
        "s = pd.Series([1, 2, 3])\n",
        "np.array(s)"
      ],
      "metadata": {
        "colab": {
          "base_uri": "https://localhost:8080/"
        },
        "id": "So1ax_knpght",
        "outputId": "9382bc62-7d06-4b7e-b086-3bd6b954a6ed"
      },
      "execution_count": 70,
      "outputs": [
        {
          "output_type": "execute_result",
          "data": {
            "text/plain": [
              "array([1, 2, 3])"
            ]
          },
          "metadata": {},
          "execution_count": 70
        }
      ]
    },
    {
      "cell_type": "markdown",
      "source": [
        "# 70. Series.array\n",
        "다음 시리즈 객체의 array 속성을 사용해보세요.(?)"
      ],
      "metadata": {
        "id": "BVUvBgpxpqxo"
      }
    },
    {
      "cell_type": "code",
      "source": [
        "s = pd.Series([1, 2, 3])\n",
        "s.array"
      ],
      "metadata": {
        "colab": {
          "base_uri": "https://localhost:8080/"
        },
        "id": "hU8COY_vptXw",
        "outputId": "28a49fd5-44b5-433f-955e-bf3ca94610d9"
      },
      "execution_count": 74,
      "outputs": [
        {
          "output_type": "execute_result",
          "data": {
            "text/plain": [
              "<PandasArray>\n",
              "[1, 2, 3]\n",
              "Length: 3, dtype: int64"
            ]
          },
          "metadata": {},
          "execution_count": 74
        }
      ]
    }
  ]
}