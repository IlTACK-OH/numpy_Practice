{
  "nbformat": 4,
  "nbformat_minor": 0,
  "metadata": {
    "colab": {
      "provenance": [],
      "authorship_tag": "ABX9TyPCTSThvCrBDLXYOQM3psVh",
      "include_colab_link": true
    },
    "kernelspec": {
      "name": "python3",
      "display_name": "Python 3"
    },
    "language_info": {
      "name": "python"
    }
  },
  "cells": [
    {
      "cell_type": "markdown",
      "metadata": {
        "id": "view-in-github",
        "colab_type": "text"
      },
      "source": [
        "<a href=\"https://colab.research.google.com/github/IlTACK-OH/numpy_Practice/blob/main/numpy_day5.ipynb\" target=\"_parent\"><img src=\"https://colab.research.google.com/assets/colab-badge.svg\" alt=\"Open In Colab\"/></a>"
      ]
    },
    {
      "cell_type": "markdown",
      "source": [
        "# 71. 시리즈 타입\n",
        "다음 코드를 수행하면 어떤 데이터 타입을 출력되는지 이야기해보세요. 그리고 그 이유는 무엇인가요?"
      ],
      "metadata": {
        "id": "E_sCswc30QoM"
      }
    },
    {
      "cell_type": "code",
      "execution_count": 1,
      "metadata": {
        "id": "6EBPHnPhz41J"
      },
      "outputs": [],
      "source": [
        "import pandas as pd"
      ]
    },
    {
      "cell_type": "code",
      "source": [
        "s = pd.Series([1,2,'python'])\n",
        "print(s.dtype)"
      ],
      "metadata": {
        "colab": {
          "base_uri": "https://localhost:8080/"
        },
        "id": "T2yufBlM0U8T",
        "outputId": "9a3e7fe1-6b2b-492b-a3b8-6f65d7840bf7"
      },
      "execution_count": 2,
      "outputs": [
        {
          "output_type": "stream",
          "name": "stdout",
          "text": [
            "object\n"
          ]
        }
      ]
    },
    {
      "cell_type": "markdown",
      "source": [
        "object 타입이 출력됩니다. 시리즈는 하나의 데이터 타입만 가질 수 있습니다. 예제에서처럼 숫자와 문자가 섞여 있는 경우 하나의 데이터 타입으로 표현하기 위하여 숫자를 문자로 변환 후 문자열 타입의 데이터가 있는 시리즈 객체를 생성합니다."
      ],
      "metadata": {
        "id": "6151O1lW0clz"
      }
    },
    {
      "cell_type": "markdown",
      "source": [
        "# 72. 시리즈 타입 변경\n",
        "다음 시리즈 객체의 데이터 타입을 int32로 변경해보세요."
      ],
      "metadata": {
        "id": "K2WY1mzI0eKr"
      }
    },
    {
      "cell_type": "code",
      "source": [
        "s = pd.Series(['1','2','3'])\n",
        "print(s.dtype)"
      ],
      "metadata": {
        "colab": {
          "base_uri": "https://localhost:8080/"
        },
        "id": "BR4Q_5860kiT",
        "outputId": "91e4c787-a33a-4e1d-91d0-b2f6f7ff1f01"
      },
      "execution_count": 4,
      "outputs": [
        {
          "output_type": "stream",
          "name": "stdout",
          "text": [
            "object\n"
          ]
        }
      ]
    },
    {
      "cell_type": "code",
      "source": [
        "s = s.astype('int32')\n",
        "print(s.dtype)"
      ],
      "metadata": {
        "colab": {
          "base_uri": "https://localhost:8080/"
        },
        "id": "OAh-KNki0q47",
        "outputId": "90aa828f-287b-4044-e7c2-1701c0d643f6"
      },
      "execution_count": 7,
      "outputs": [
        {
          "output_type": "stream",
          "name": "stdout",
          "text": [
            "int32\n"
          ]
        }
      ]
    },
    {
      "cell_type": "markdown",
      "source": [
        "# 73. 시리즈 데이터 타입 설정\n",
        "BTC 금액이 50000 달러, XRP 금액이 1 달러, ETH 금액이 4000 달러일 때 시리즈 객체로 생성하세요. 시리즈 객체를 생성할 때 가격의 데이터 타입을 float로 지정해서 생성하세요."
      ],
      "metadata": {
        "id": "eVYxeZvx081y"
      }
    },
    {
      "cell_type": "code",
      "source": [
        "price = pd.Series([50000,1,4000],index =['BTC','XRP','ETH'],dtype='float')\n",
        "price"
      ],
      "metadata": {
        "colab": {
          "base_uri": "https://localhost:8080/"
        },
        "id": "OxE1D1FR1DWG",
        "outputId": "00cb3d95-ed19-4f3f-dbe5-76c5a8dbceb6"
      },
      "execution_count": 10,
      "outputs": [
        {
          "output_type": "execute_result",
          "data": {
            "text/plain": [
              "BTC    50000.0\n",
              "XRP        1.0\n",
              "ETH     4000.0\n",
              "dtype: float64"
            ]
          },
          "metadata": {},
          "execution_count": 10
        }
      ]
    },
    {
      "cell_type": "markdown",
      "source": [
        "# 74. 시리즈 인덱싱(대괄호 사용하기)\n",
        "다음 데이터를 시리즈 객체로 표현하세요. 그다음 대괄호([ ])을 사용하여 200을 출력하세요."
      ],
      "metadata": {
        "id": "Vvtau4je1a7U"
      }
    },
    {
      "cell_type": "code",
      "source": [
        "data = [100, 200, 300]\n",
        "index = [\"철수\", \"영희\", \"아름\"]\n",
        "s = pd.Series(data, index)"
      ],
      "metadata": {
        "id": "gRRBO3Ua1mro"
      },
      "execution_count": 11,
      "outputs": []
    },
    {
      "cell_type": "code",
      "source": [
        "print(s['영희'])"
      ],
      "metadata": {
        "colab": {
          "base_uri": "https://localhost:8080/"
        },
        "id": "D8LiWJwt1sax",
        "outputId": "b23f1382-7a32-4663-cc49-5f4c161afb37"
      },
      "execution_count": 12,
      "outputs": [
        {
          "output_type": "stream",
          "name": "stdout",
          "text": [
            "200\n"
          ]
        }
      ]
    },
    {
      "cell_type": "markdown",
      "source": [
        "# 75. 시리즈 인덱싱 (iloc 속성 사용하기)\n",
        "다음 데이터를 시리즈 객체로 표현하세요. 그다음 iloc 속성을 사용하여 200을 출력하세요."
      ],
      "metadata": {
        "id": "U31DdWFl19oi"
      }
    },
    {
      "cell_type": "code",
      "source": [
        "data = [100, 200, 300]\n",
        "index = [\"철수\", \"영희\", \"아름\"]\n",
        "s = pd.Series(data, index)"
      ],
      "metadata": {
        "id": "OiQpYOVP1_vg"
      },
      "execution_count": 13,
      "outputs": []
    },
    {
      "cell_type": "code",
      "source": [
        "s.iloc[1]"
      ],
      "metadata": {
        "colab": {
          "base_uri": "https://localhost:8080/"
        },
        "id": "0IJVy-C62CUT",
        "outputId": "6abbf5eb-cf8e-4467-a85b-e3edbc35a7e9"
      },
      "execution_count": 15,
      "outputs": [
        {
          "output_type": "execute_result",
          "data": {
            "text/plain": [
              "200"
            ]
          },
          "metadata": {},
          "execution_count": 15
        }
      ]
    },
    {
      "cell_type": "markdown",
      "source": [
        "# 76. 시리즈 인덱싱 (loc 속성 사용하기)\n",
        "다음 데이터를 시리즈 객체로 표현하세요. 그다음 loc 속성을 사용하여 200을 출력하세요."
      ],
      "metadata": {
        "id": "JMwlK7cM2iZo"
      }
    },
    {
      "cell_type": "code",
      "source": [
        "data = [100, 200, 300]\n",
        "index = [\"철수\", \"영희\", \"아름\"]\n",
        "s = pd.Series(data, index)"
      ],
      "metadata": {
        "id": "i89sS-ys2kEs"
      },
      "execution_count": 17,
      "outputs": []
    },
    {
      "cell_type": "code",
      "source": [
        "s.loc['영희']"
      ],
      "metadata": {
        "colab": {
          "base_uri": "https://localhost:8080/"
        },
        "id": "z3BgcRrA2mR-",
        "outputId": "48e3afa9-e805-4656-abc2-7e674c78c954"
      },
      "execution_count": 18,
      "outputs": [
        {
          "output_type": "execute_result",
          "data": {
            "text/plain": [
              "200"
            ]
          },
          "metadata": {},
          "execution_count": 18
        }
      ]
    },
    {
      "cell_type": "markdown",
      "source": [
        "# 77. 시리즈 인덱싱 (인덱스 사용하기)\n",
        "다음 데이터를 시리즈 객체로 표현하세요. 그다음 인덱스를 사용하여 200을 출력하세요."
      ],
      "metadata": {
        "id": "rqzmHQYG2xft"
      }
    },
    {
      "cell_type": "code",
      "source": [
        "data = [100, 200, 300]\n",
        "index = [\"철수\", \"영희\", \"아름\"]\n",
        "s = pd.Series(data, index)"
      ],
      "metadata": {
        "id": "6tOm8rrU2zvy"
      },
      "execution_count": 19,
      "outputs": []
    },
    {
      "cell_type": "code",
      "source": [
        "s.영희"
      ],
      "metadata": {
        "colab": {
          "base_uri": "https://localhost:8080/"
        },
        "id": "BKT2_yir23Su",
        "outputId": "f6141f4e-585d-483c-ffe2-ea10b49ddea1"
      },
      "execution_count": 20,
      "outputs": [
        {
          "output_type": "execute_result",
          "data": {
            "text/plain": [
              "200"
            ]
          },
          "metadata": {},
          "execution_count": 20
        }
      ]
    },
    {
      "cell_type": "markdown",
      "source": [
        "# 78. 시리즈 슬라이싱\n",
        "시리즈에서 100과 200을 시리즈로 출력하라."
      ],
      "metadata": {
        "id": "GWcq9-G025Ly"
      }
    },
    {
      "cell_type": "code",
      "source": [
        "s[:2]"
      ],
      "metadata": {
        "colab": {
          "base_uri": "https://localhost:8080/"
        },
        "id": "3VGrjHAh27Yd",
        "outputId": "2a349feb-ff9a-42a9-8025-28823bea9c62"
      },
      "execution_count": 23,
      "outputs": [
        {
          "output_type": "execute_result",
          "data": {
            "text/plain": [
              "철수    100\n",
              "영희    200\n",
              "dtype: int64"
            ]
          },
          "metadata": {},
          "execution_count": 23
        }
      ]
    },
    {
      "cell_type": "markdown",
      "source": [
        "# 79. 시리즈 슬라이싱\n",
        "시리즈에는 일자별 가격 정보가 저장돼 있다. 시리즈에서 상위 3개의 데이터의 날짜 (인덱스)를 출력하라."
      ],
      "metadata": {
        "id": "7JLpxh853EbU"
      }
    },
    {
      "cell_type": "code",
      "source": [
        "data = [100, 200, 300, 400, 500, 600]\n",
        "index = [\"08/01\", \"08/02\", \"08/03\", \"08/04\", \"08/05\", \"08/06\"]\n",
        "s = pd.Series(data, index)"
      ],
      "metadata": {
        "id": "rW2jPsk03fz5"
      },
      "execution_count": 24,
      "outputs": []
    },
    {
      "cell_type": "code",
      "source": [
        "s.iloc[:3].index"
      ],
      "metadata": {
        "colab": {
          "base_uri": "https://localhost:8080/"
        },
        "id": "vEYCu5mz3oIi",
        "outputId": "21f2c0cc-0e67-4142-9365-a02458238371"
      },
      "execution_count": 25,
      "outputs": [
        {
          "output_type": "execute_result",
          "data": {
            "text/plain": [
              "Index(['08/01', '08/02', '08/03'], dtype='object')"
            ]
          },
          "metadata": {},
          "execution_count": 25
        }
      ]
    },
    {
      "cell_type": "markdown",
      "source": [
        "# 80. 시리즈 슬라이싱\n",
        "시리즈에서 100, 300, 500을 슬라이싱으로 출력하라."
      ],
      "metadata": {
        "id": "rMSQcQ5b3zRu"
      }
    },
    {
      "cell_type": "code",
      "source": [
        "data = [100, 200, 300, 400, 500, 600]\n",
        "index = [\"08/01\", \"08/02\", \"08/03\", \"08/04\", \"08/05\", \"08/06\"]\n",
        "s = pd.Series(data, index)"
      ],
      "metadata": {
        "id": "yvGhvELX32Ap"
      },
      "execution_count": 30,
      "outputs": []
    },
    {
      "cell_type": "code",
      "source": [
        "s.iloc[[0,2,4]]"
      ],
      "metadata": {
        "colab": {
          "base_uri": "https://localhost:8080/"
        },
        "id": "c7oxsb-I34NK",
        "outputId": "b3f8701d-1022-4b6e-c220-b4c15d2eeca2"
      },
      "execution_count": 28,
      "outputs": [
        {
          "output_type": "execute_result",
          "data": {
            "text/plain": [
              "08/01    100\n",
              "08/03    300\n",
              "08/05    500\n",
              "dtype: int64"
            ]
          },
          "metadata": {},
          "execution_count": 28
        }
      ]
    },
    {
      "cell_type": "code",
      "source": [
        "# 답안 예시들\n",
        "print(s.iloc[ : :2])\n",
        "print(s[ : :2])\n",
        "\n",
        "print(s.loc[\"08/01\":\"08/06\":2])\n",
        "print(s[\"08/01\":\"08/06\":2])\n",
        "\n",
        "print(s.iloc[[0, 2, 4]])\n",
        "print(s.loc[[\"08/01\", \"08/03\", \"08/05\"]])"
      ],
      "metadata": {
        "colab": {
          "base_uri": "https://localhost:8080/"
        },
        "id": "ImCon7o94Csj",
        "outputId": "9636ff6f-0be2-438b-a2b7-0f0f470f18e1"
      },
      "execution_count": 32,
      "outputs": [
        {
          "output_type": "stream",
          "name": "stdout",
          "text": [
            "08/01    100\n",
            "08/03    300\n",
            "08/05    500\n",
            "dtype: int64\n",
            "08/01    100\n",
            "08/03    300\n",
            "08/05    500\n",
            "dtype: int64\n",
            "08/01    100\n",
            "08/03    300\n",
            "08/05    500\n",
            "dtype: int64\n",
            "08/01    100\n",
            "08/03    300\n",
            "08/05    500\n",
            "dtype: int64\n",
            "08/01    100\n",
            "08/03    300\n",
            "08/05    500\n",
            "dtype: int64\n",
            "08/01    100\n",
            "08/03    300\n",
            "08/05    500\n",
            "dtype: int64\n"
          ]
        }
      ]
    },
    {
      "cell_type": "markdown",
      "source": [
        "# 81. 시리즈 추가\n",
        "시리즈에 순이 인덱스에 400을 추가하라."
      ],
      "metadata": {
        "id": "3htWeP0K4fmr"
      }
    },
    {
      "cell_type": "code",
      "source": [
        "data = [100, 200, 300]\n",
        "index = [\"철수\", \"영희\", \"아름\"]\n",
        "s = pd.Series(data, index)"
      ],
      "metadata": {
        "id": "3ysKGUuW4fYB"
      },
      "execution_count": 33,
      "outputs": []
    },
    {
      "cell_type": "code",
      "source": [
        "s['순이'] = 400"
      ],
      "metadata": {
        "id": "N-07H-Bq4ks-"
      },
      "execution_count": 35,
      "outputs": []
    },
    {
      "cell_type": "code",
      "source": [
        "s"
      ],
      "metadata": {
        "colab": {
          "base_uri": "https://localhost:8080/"
        },
        "id": "O-fEUu824wZo",
        "outputId": "92a409c8-58a4-4b5d-e6b4-9c0d607773fe"
      },
      "execution_count": 36,
      "outputs": [
        {
          "output_type": "execute_result",
          "data": {
            "text/plain": [
              "철수    100\n",
              "영희    200\n",
              "아름    300\n",
              "순이    400\n",
              "dtype: int64"
            ]
          },
          "metadata": {},
          "execution_count": 36
        }
      ]
    },
    {
      "cell_type": "markdown",
      "source": [
        "# 82. 시리즈 삭제\n",
        "시리즈에 철수를 삭제하라."
      ],
      "metadata": {
        "id": "Eypv1Qx55t7e"
      }
    },
    {
      "cell_type": "code",
      "source": [
        "data = [100, 200, 300]\n",
        "index = [\"철수\", \"영희\", \"아름\"]\n",
        "s = pd.Series(data, index)"
      ],
      "metadata": {
        "id": "QvqNkiGW5xJ-"
      },
      "execution_count": 41,
      "outputs": []
    },
    {
      "cell_type": "code",
      "source": [
        "s.drop(index = ['철수'],inplace = True)\n",
        "s"
      ],
      "metadata": {
        "colab": {
          "base_uri": "https://localhost:8080/"
        },
        "id": "uAcdUaOZ57vK",
        "outputId": "c668a8a9-e228-4257-cb5f-79bf9ee8aef4"
      },
      "execution_count": 42,
      "outputs": [
        {
          "output_type": "execute_result",
          "data": {
            "text/plain": [
              "영희    200\n",
              "아름    300\n",
              "dtype: int64"
            ]
          },
          "metadata": {},
          "execution_count": 42
        }
      ]
    },
    {
      "cell_type": "markdown",
      "source": [
        "# 83. 시리즈 삭제 (inplace)\n",
        "시리즈 객체에서 drop 메소드를 사용하여 철수를 삭제하세요. 이때 drop 메소드의 인자로 inplace=True를 사용해보고 그 의미를 설명해보세요."
      ],
      "metadata": {
        "id": "BQUGHLXQ-RVJ"
      }
    },
    {
      "cell_type": "code",
      "source": [
        "data = [100, 200, 300]\n",
        "index = [\"철수\", \"영희\", \"아름\"]\n",
        "s = pd.Series(data, index)"
      ],
      "metadata": {
        "id": "eT7pUR6d-UOw"
      },
      "execution_count": 44,
      "outputs": []
    },
    {
      "cell_type": "markdown",
      "source": [
        "`drop` 메서드는 원래 원본 데이터를 수정하지 않고 수정된 결과를 반환합니다. inplace=True를 사용하면 원본 데이터에서 삭제가 수행됩니다."
      ],
      "metadata": {
        "id": "UDvcigEa-2TO"
      }
    },
    {
      "cell_type": "code",
      "source": [
        "s.drop(index = ['철수'],inplace = True)\n",
        "s"
      ],
      "metadata": {
        "colab": {
          "base_uri": "https://localhost:8080/"
        },
        "id": "-hJSSQKh-zDo",
        "outputId": "5e3d8cd1-eea9-46d6-8d8b-ed5be164f384"
      },
      "execution_count": 45,
      "outputs": [
        {
          "output_type": "execute_result",
          "data": {
            "text/plain": [
              "영희    200\n",
              "아름    300\n",
              "dtype: int64"
            ]
          },
          "metadata": {},
          "execution_count": 45
        }
      ]
    },
    {
      "cell_type": "markdown",
      "source": [
        "# 84. unique\n",
        "다음 시리즈 객체는 주식 종목별 업종을 나타냅니다. 업종 중 중복적인 값을 제외한 값을 출력해보세요."
      ],
      "metadata": {
        "id": "Uveb4K67-3jX"
      }
    },
    {
      "cell_type": "code",
      "source": [
        "from pandas import Series\n",
        "\n",
        "data = {\n",
        "    \"삼성전자\": \"전기,전자\",\n",
        "    \"LG전자\": \"전기,전자\",\n",
        "    \"현대차\": \"운수장비\",\n",
        "    \"NAVER\": \"서비스업\",\n",
        "    \"카카오\": \"서비스업\"\n",
        "}\n",
        "s = Series(data)"
      ],
      "metadata": {
        "id": "3catRppqC0RL"
      },
      "execution_count": 46,
      "outputs": []
    },
    {
      "cell_type": "code",
      "source": [
        "s.unique()"
      ],
      "metadata": {
        "colab": {
          "base_uri": "https://localhost:8080/"
        },
        "id": "rgd0hcWMVxTP",
        "outputId": "4e3e5dbd-3984-4ecb-feb2-4f8a3e33f405"
      },
      "execution_count": 48,
      "outputs": [
        {
          "output_type": "execute_result",
          "data": {
            "text/plain": [
              "array(['전기,전자', '운수장비', '서비스업'], dtype=object)"
            ]
          },
          "metadata": {},
          "execution_count": 48
        }
      ]
    },
    {
      "cell_type": "markdown",
      "source": [
        "# 85. unique\n",
        "다음 시리즈 객체는 파이스탁 출판사의 저녁 식대 지출 내역입니다. 식대 금액에 대해서 중복적인 값을 제외한 값만 출력해보세요."
      ],
      "metadata": {
        "id": "xSRUR6JHWJuY"
      }
    },
    {
      "cell_type": "code",
      "source": [
        "s = pd.Series(\n",
        "    data = [9000, 9000, 8000, 9000, 10000],\n",
        "    index = ['김과장', '이대리', '박전무', '이대리', '이대리']\n",
        ")"
      ],
      "metadata": {
        "id": "sX-z5fMfWLtd"
      },
      "execution_count": 49,
      "outputs": []
    },
    {
      "cell_type": "code",
      "source": [
        "s.unique()"
      ],
      "metadata": {
        "colab": {
          "base_uri": "https://localhost:8080/"
        },
        "id": "tlm7gWksWOGQ",
        "outputId": "a0c14cee-a4a2-4770-ed7f-3908a2bc36bf"
      },
      "execution_count": 50,
      "outputs": [
        {
          "output_type": "execute_result",
          "data": {
            "text/plain": [
              "array([ 9000,  8000, 10000])"
            ]
          },
          "metadata": {},
          "execution_count": 50
        }
      ]
    },
    {
      "cell_type": "markdown",
      "source": [
        "# 86. unique\n",
        "다음 시리즈 객체는 파이스탁 출판사의 저녁 식대 지출 내역입니다. 한 번이라도 야근한 직원들의 명부를 출력해보세요."
      ],
      "metadata": {
        "id": "cRneGR-sstbY"
      }
    },
    {
      "cell_type": "code",
      "source": [
        "s = pd.Series(\n",
        "    data = [9000, 9000, 8000, 9000, 10000],\n",
        "    index = ['김과장', '이대리', '박전무', '이대리', '이대리']\n",
        ")"
      ],
      "metadata": {
        "id": "_2pBthaFtjTy"
      },
      "execution_count": 58,
      "outputs": []
    },
    {
      "cell_type": "code",
      "source": [
        "s.index.unique()"
      ],
      "metadata": {
        "colab": {
          "base_uri": "https://localhost:8080/"
        },
        "id": "sFGKnAvbtmlV",
        "outputId": "a54e1685-b510-43d2-ea08-61c66492c5f0"
      },
      "execution_count": 59,
      "outputs": [
        {
          "output_type": "execute_result",
          "data": {
            "text/plain": [
              "Index(['김과장', '이대리', '박전무'], dtype='object')"
            ]
          },
          "metadata": {},
          "execution_count": 59
        }
      ]
    },
    {
      "cell_type": "markdown",
      "source": [
        "# 87. value_counts\n",
        "다음 시리즈 객체는 파이스탁 출판사의 저녁 식대 지출 내역입니다. 식대 금액별로 횟수를 출력해보세요."
      ],
      "metadata": {
        "id": "uF2sDbZyWmEH"
      }
    },
    {
      "cell_type": "code",
      "source": [
        "s = pd.Series(\n",
        "    data = [9000, 9000, 8000, 9000, 10000],\n",
        "    index = ['김과장', '이대리', '박전무', '이대리', '이대리']\n",
        ")"
      ],
      "metadata": {
        "id": "MXN-lY9HWrVP"
      },
      "execution_count": 52,
      "outputs": []
    },
    {
      "cell_type": "code",
      "source": [
        "s.value_counts()"
      ],
      "metadata": {
        "colab": {
          "base_uri": "https://localhost:8080/"
        },
        "id": "Y5WHJh5fWtAD",
        "outputId": "f9e64714-98cb-4faf-cbfc-1742eb774cf0"
      },
      "execution_count": 53,
      "outputs": [
        {
          "output_type": "execute_result",
          "data": {
            "text/plain": [
              "9000     3\n",
              "8000     1\n",
              "10000    1\n",
              "dtype: int64"
            ]
          },
          "metadata": {},
          "execution_count": 53
        }
      ]
    },
    {
      "cell_type": "markdown",
      "source": [
        "# 88. value_counts\n",
        "다음 시리즈 객체는 파이스탁 출판사의 저녁 식대 지출 내역입니다. 직원별 야근 회수를 출력해보세요."
      ],
      "metadata": {
        "id": "9jJqvsMeXGYw"
      }
    },
    {
      "cell_type": "code",
      "source": [
        "s = pd.Series(\n",
        "    data = [9000, 9000, 8000, 9000, 10000],\n",
        "    index = ['김과장', '이대리', '박전무', '이대리', '이대리']\n",
        ")"
      ],
      "metadata": {
        "id": "HnVCOSTvXLTB"
      },
      "execution_count": 54,
      "outputs": []
    },
    {
      "cell_type": "code",
      "source": [
        "s.index.value_counts()"
      ],
      "metadata": {
        "colab": {
          "base_uri": "https://localhost:8080/"
        },
        "id": "b_ZEMxaFXdGL",
        "outputId": "ba2ecf32-1d14-4ee2-b593-a228921e7716"
      },
      "execution_count": 55,
      "outputs": [
        {
          "output_type": "execute_result",
          "data": {
            "text/plain": [
              "이대리    3\n",
              "김과장    1\n",
              "박전무    1\n",
              "dtype: int64"
            ]
          },
          "metadata": {},
          "execution_count": 55
        }
      ]
    },
    {
      "cell_type": "markdown",
      "source": [
        "# 89. value_counts\n",
        "다음 시리즈 객체는 종목에 대한 업종 정보를 표현합니다. 업종별 발생 횟수를 출력해보세요."
      ],
      "metadata": {
        "id": "scwnJzyjXgSX"
      }
    },
    {
      "cell_type": "code",
      "source": [
        "data = {\n",
        "    \"삼성전자\": \"전기,전자\",\n",
        "    \"LG전자\": \"전기,전자\",\n",
        "    \"현대차\": \"운수장비\",\n",
        "    \"NAVER\": \"서비스업\",\n",
        "    \"카카오\": \"서비스업\"\n",
        "}\n",
        "s = Series(data)"
      ],
      "metadata": {
        "id": "RNqizN7yXvjQ"
      },
      "execution_count": 56,
      "outputs": []
    },
    {
      "cell_type": "code",
      "source": [
        "s.value_counts()"
      ],
      "metadata": {
        "colab": {
          "base_uri": "https://localhost:8080/"
        },
        "id": "ifrdJQhEX4Kf",
        "outputId": "1ed93379-47f5-4684-b4f0-17bc858d1c46"
      },
      "execution_count": 57,
      "outputs": [
        {
          "output_type": "execute_result",
          "data": {
            "text/plain": [
              "전기,전자    2\n",
              "서비스업     2\n",
              "운수장비     1\n",
              "dtype: int64"
            ]
          },
          "metadata": {},
          "execution_count": 57
        }
      ]
    },
    {
      "cell_type": "markdown",
      "source": [
        "# 90. missing data\n",
        "아래 표는 어떤 회사의 재무제표의 일부 항목입니다. 다음 표를 판다스 시리즈 객체로 생성하세요. PER 값이 존재하지 않는데 이를 numpy 모듈의 nan 타입을 사용해서 표현하면 됩니다."
      ],
      "metadata": {
        "id": "T1RAsYJcuJqf"
      }
    },
    {
      "cell_type": "code",
      "source": [
        "import numpy as np\n",
        "data_value = [300, np.NaN,2.0]\n",
        "index_name = ['매출액','PER','PBR']\n",
        "s = pd.Series(data= data_value,\n",
        "              index = index_name)\n",
        "s"
      ],
      "metadata": {
        "colab": {
          "base_uri": "https://localhost:8080/"
        },
        "id": "-nFfPPQGuQ1A",
        "outputId": "47832135-960e-41a4-847a-0406eedee1ad"
      },
      "execution_count": 62,
      "outputs": [
        {
          "output_type": "execute_result",
          "data": {
            "text/plain": [
              "매출액    300.0\n",
              "PER      NaN\n",
              "PBR      2.0\n",
              "dtype: float64"
            ]
          },
          "metadata": {},
          "execution_count": 62
        }
      ]
    }
  ]
}